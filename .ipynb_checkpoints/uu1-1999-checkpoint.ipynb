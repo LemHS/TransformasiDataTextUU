{
 "cells": [
  {
   "cell_type": "code",
   "execution_count": 35,
   "id": "d884fe9a-1fe9-4a6b-ac33-6394e297dc3c",
   "metadata": {},
   "outputs": [],
   "source": [
    "import regex as re"
   ]
  },
  {
   "cell_type": "code",
   "execution_count": 3,
   "id": "56deec8a-f73a-43ea-b4e5-0ffa8acd12d7",
   "metadata": {},
   "outputs": [],
   "source": [
    "with open(\"uu1-1999.txt\") as file:\n",
    "    file = file.read()"
   ]
  },
  {
   "cell_type": "markdown",
   "id": "90527111-cfae-45fe-a76f-9b939a80243c",
   "metadata": {},
   "source": [
    "## Remove Header"
   ]
  },
  {
   "cell_type": "code",
   "execution_count": 15,
   "id": "ec112f48-c67d-4a0d-949d-a82e3c16be05",
   "metadata": {},
   "outputs": [],
   "source": [
    "file_no_header = re.sub(\"\\\\nPRESIDEN\\\\nREPUBLIK INDONESIA\\\\n- \\p{N}+ -\", \" \", file, flags=re.DOTALL)"
   ]
  },
  {
   "cell_type": "markdown",
   "id": "a0446218-f37a-43ed-87bf-de04ebffd66d",
   "metadata": {},
   "source": [
    "## Pisah Lampiran"
   ]
  },
  {
   "cell_type": "markdown",
   "id": "82279d5b-fc81-45eb-a2f5-9bf3929a616c",
   "metadata": {},
   "source": [
    "#### Belom optimal karena tidak general"
   ]
  },
  {
   "cell_type": "code",
   "execution_count": 20,
   "id": "3eb65419-33cc-4030-85e4-9d34d5be4214",
   "metadata": {},
   "outputs": [],
   "source": [
    "lampiran = re.search(\"\\\\nSebagai bukti, yang bertanda tangan dibawah.*\", file_no_header, re.DOTALL).group()\n",
    "badan = file_no_header.replace(lampiran, \"\")"
   ]
  },
  {
   "cell_type": "markdown",
   "id": "292f3f70-ca19-40ce-9590-404be459dc5c",
   "metadata": {},
   "source": [
    "## Ambil Pasal"
   ]
  },
  {
   "cell_type": "code",
   "execution_count": 24,
   "id": "4c87afbb-c280-40b5-9ba0-007f6d78cdff",
   "metadata": {},
   "outputs": [],
   "source": [
    "def ambil_pasal(text):\n",
    "    pattern = \"(?<=\\\\n)(Pasal \\p{N}+\\s*\\\\n[A-Z]{2,}.*?)(?=\\\\nPasal|$)\"\n",
    "    match = re.findall(pattern, text, re.DOTALL)\n",
    "    if match:\n",
    "        return match"
   ]
  },
  {
   "cell_type": "code",
   "execution_count": 27,
   "id": "ab072adc-4255-4cf4-bb82-f35bdf63e1f2",
   "metadata": {},
   "outputs": [],
   "source": [
    "pasal = ambil_pasal(badan)"
   ]
  },
  {
   "cell_type": "markdown",
   "id": "b95b567f-f033-4870-8007-d27e380992a0",
   "metadata": {},
   "source": [
    "## Ambil Ayat"
   ]
  },
  {
   "cell_type": "code",
   "execution_count": 34,
   "id": "5dfcbe0d-2b14-4b90-bade-2ffd9d414456",
   "metadata": {},
   "outputs": [],
   "source": [
    "def ambil_ayat(text):\n",
    "    pattern = \"(?<=\\\\n)(\\p{N}+\\..*?)(?=\\\\n\\p{N}|$)\"\n",
    "    match = re.findall(pattern, text, re.DOTALL)\n",
    "    if match:\n",
    "        return match"
   ]
  }
 ],
 "metadata": {
  "kernelspec": {
   "display_name": "Python 3 (ipykernel)",
   "language": "python",
   "name": "python3"
  },
  "language_info": {
   "codemirror_mode": {
    "name": "ipython",
    "version": 3
   },
   "file_extension": ".py",
   "mimetype": "text/x-python",
   "name": "python",
   "nbconvert_exporter": "python",
   "pygments_lexer": "ipython3",
   "version": "3.9.18"
  }
 },
 "nbformat": 4,
 "nbformat_minor": 5
}
