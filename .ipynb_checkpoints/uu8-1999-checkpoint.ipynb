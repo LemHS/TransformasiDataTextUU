{
 "cells": [
  {
   "cell_type": "code",
   "execution_count": 1,
   "id": "8a9bfb8e-ed4d-4ce7-89c5-6261db50d41f",
   "metadata": {},
   "outputs": [],
   "source": [
    "import regex as re"
   ]
  },
  {
   "cell_type": "code",
   "execution_count": 2,
   "id": "9451c2c5-c5e8-4809-8c9e-3a1a848aa437",
   "metadata": {},
   "outputs": [],
   "source": [
    "with open(\"uu8-1999.txt\") as file:\n",
    "    file = file.read()"
   ]
  },
  {
   "cell_type": "markdown",
   "id": "0748ee75-45e1-42bc-aee6-7c08b5b16944",
   "metadata": {},
   "source": [
    "## Remove Header"
   ]
  },
  {
   "cell_type": "code",
   "execution_count": 3,
   "id": "7a69c77f-857d-42c3-b0d5-85551f73a593",
   "metadata": {},
   "outputs": [],
   "source": [
    "file_no_header = re.sub(\"\\\\nPRESIDEN\\\\nREPUBLIK INDONESIA\\\\n- \\p{N}+ -\", \" \", file, flags=re.DOTALL)\n",
    "file_no_header = re.sub(\"(\\\\n[^\\\\n]*? \\…[^\\\\n]*)(?=\\\\n)\", \" \", file_no_header, flags=re.DOTALL)"
   ]
  },
  {
   "cell_type": "markdown",
   "id": "8834d421-15b1-4b96-95cd-06a32514f4f1",
   "metadata": {},
   "source": [
    "## Pisah Penjelasan"
   ]
  },
  {
   "cell_type": "code",
   "execution_count": 4,
   "id": "45ab6452-810b-4bab-bbc2-19f03ed5384e",
   "metadata": {},
   "outputs": [],
   "source": [
    "penjelasan = re.search(\"PRESIDEN\\\\nREPUBLIK INDONESIA\\\\nPENJELASAN.*\", file_no_header, re.DOTALL).group()\n",
    "badan = file_no_header.replace(penjelasan, \"\")"
   ]
  },
  {
   "cell_type": "markdown",
   "id": "f8275995-8cb0-493e-9c8b-c9e1a16f5fbf",
   "metadata": {},
   "source": [
    "## Ambil BAB"
   ]
  },
  {
   "cell_type": "code",
   "execution_count": 5,
   "id": "56de6ff4-efe1-48e3-95a0-93182f633a98",
   "metadata": {},
   "outputs": [],
   "source": [
    "def ambil_bab(text):\n",
    "    pattern = \"(?<=\\\\n)(BAB [IVXLCDM]+.*?)(?=\\\\nBAB|$)\"\n",
    "    bab = re.findall(pattern, text, re.DOTALL)\n",
    "    if bab:\n",
    "        ## ambil nomor dan nama bab\n",
    "        pattern_no = \"(?<=BAB)(?:\\s*)([IVXLCDM]+)\"\n",
    "        pattern_nama = \"(?<=BAB)(?:\\s*[IVXLCDM]+\\s*\\\\n)(.*?)(?=\\\\n)\"\n",
    "        bab = [(re.search(pattern_no, i, re.DOTALL).group(1), re.search(pattern_nama, i, re.DOTALL).group(1), i) for i in bab]\n",
    "        return bab\n",
    "    else:\n",
    "        bab = [(\"\", \"\", text)]\n",
    "        return bab"
   ]
  },
  {
   "cell_type": "code",
   "execution_count": 6,
   "id": "272dc028-7e1f-4f6c-9c7d-d7b853e7f037",
   "metadata": {},
   "outputs": [],
   "source": [
    "bab = ambil_bab(badan)"
   ]
  },
  {
   "cell_type": "markdown",
   "id": "7eb7c9f8-e6cc-4d9f-a2c4-de8915b67a5e",
   "metadata": {},
   "source": [
    "## Ambil Bagian"
   ]
  },
  {
   "cell_type": "code",
   "execution_count": 7,
   "id": "f3a7c7ee-d985-4897-baba-a6b4b5940716",
   "metadata": {},
   "outputs": [],
   "source": [
    "def ambil_bagian(text):\n",
    "    pattern = \"(?<=\\\\n)(Bagian \\p{Lu}.*?)(?=\\\\nBagian \\p{Lu}|$)\"\n",
    "    bagian = re.findall(pattern, text, re.DOTALL)\n",
    "    if bagian:\n",
    "        pattern = \"(?<=Bagian \\p{Lu})(?:\\p{L}*\\\\n)([^\\\\n]*)\"\n",
    "        bagian = [(re.search(pattern, i, re.DOTALL).group(1), i) for i in bagian]\n",
    "        return bagian\n",
    "    else:\n",
    "        bagian = [(\"\", text)]\n",
    "        return bagian"
   ]
  },
  {
   "cell_type": "code",
   "execution_count": 8,
   "id": "d7dd31c7-4872-44fa-b630-fcb2cbf95c3a",
   "metadata": {},
   "outputs": [],
   "source": [
    "bagian = ambil_bagian(bab[6][2])"
   ]
  },
  {
   "cell_type": "code",
   "execution_count": 9,
   "id": "9bb8130d-e1da-48d6-8217-dc4e7b10cd8b",
   "metadata": {},
   "outputs": [
    {
     "data": {
      "text/plain": [
       "'Bagian Pertama\\nPembinaan\\nPasal 29\\n(1) Pemerintah bertanggung jawab atas pembinaan penyelenggaraan\\nperlindungan konsumen yang menjamin diperolehnya hak konsumen\\ndan pelaku usaha serta dilaksanakannya kewajiban konsumen dan\\npelaku usaha\\n(2) Pembinaan oleh pemerintah atas penyelenggaraan perlindungan\\nkonsumen sebagaimana dimaksud pada ayat (1) dilaksanakan oleh\\nMenteri dan/atau menteri teknis terkait.\\n(3) Menteri sebagaimana dimaksud pada ayat (2) melakukan koordinasi\\natas penyelenggaraan perlindungan konsumen.\\n(4) Pembinaan penyelenggaraan perlindungan konsumen sebagaimana\\ndimaksud pada ayat (2) meliputi upaya untuk:\\na. terciptanya iklim usaha dan tumbuhnya hubungan yang sehat\\nantara pelaku usaha dan konsumen;\\nb. berkembangnya lembaga perlidungan konsumen swadaya\\nmasyarakat;\\nc. meningkatkan kualitas sumber daya manusia serta meningkatnya\\nkegiatan penelitian dan pengembangan di bidang perlindungan\\nkonsumen.\\n(5) Ketentuan lebih lanjut mengenai pembinaan penyelenggaraan\\nperlindungan konsumen diatur dengan Peraturan Pemerintah. '"
      ]
     },
     "execution_count": 9,
     "metadata": {},
     "output_type": "execute_result"
    }
   ],
   "source": [
    "bagian[0][1]"
   ]
  },
  {
   "cell_type": "markdown",
   "id": "babc6ef6-0d7a-45b7-afdd-04cfd6e4dae3",
   "metadata": {},
   "source": [
    "## Ambil Pasal"
   ]
  },
  {
   "cell_type": "code",
   "execution_count": 10,
   "id": "7bdb2ece-7f52-4f02-a5a2-0cbacad7dd70",
   "metadata": {},
   "outputs": [],
   "source": [
    "def ambil_pasal(text):\n",
    "    pattern = \"(?<=\\\\n)(Pasal \\p{N}+\\s*\\\\n.*?)(?=\\\\nPasal|$)\"\n",
    "    pasal = re.findall(pattern, text, re.DOTALL)\n",
    "    if pasal:\n",
    "        pattern_no = \"(?<=Pasal)(?:\\s*)(\\p{N}+)\"\n",
    "        pasal = [(re.search(pattern_no, i, re.DOTALL).group(1), i) for i in pasal]\n",
    "        return pasal\n",
    "    else:\n",
    "        pasal = [(\"\", text)]\n",
    "        return pasal"
   ]
  },
  {
   "cell_type": "code",
   "execution_count": 11,
   "id": "9f48cf3a-4f5b-4134-8a6c-d18ad9b276f5",
   "metadata": {},
   "outputs": [],
   "source": [
    "pasal = ambil_pasal(bagian[0][1])"
   ]
  },
  {
   "cell_type": "code",
   "execution_count": 12,
   "id": "2a5d0264-da1b-45c2-871a-f96845dff75f",
   "metadata": {},
   "outputs": [
    {
     "data": {
      "text/plain": [
       "[('29',\n",
       "  'Pasal 29\\n(1) Pemerintah bertanggung jawab atas pembinaan penyelenggaraan\\nperlindungan konsumen yang menjamin diperolehnya hak konsumen\\ndan pelaku usaha serta dilaksanakannya kewajiban konsumen dan\\npelaku usaha\\n(2) Pembinaan oleh pemerintah atas penyelenggaraan perlindungan\\nkonsumen sebagaimana dimaksud pada ayat (1) dilaksanakan oleh\\nMenteri dan/atau menteri teknis terkait.\\n(3) Menteri sebagaimana dimaksud pada ayat (2) melakukan koordinasi\\natas penyelenggaraan perlindungan konsumen.\\n(4) Pembinaan penyelenggaraan perlindungan konsumen sebagaimana\\ndimaksud pada ayat (2) meliputi upaya untuk:\\na. terciptanya iklim usaha dan tumbuhnya hubungan yang sehat\\nantara pelaku usaha dan konsumen;\\nb. berkembangnya lembaga perlidungan konsumen swadaya\\nmasyarakat;\\nc. meningkatkan kualitas sumber daya manusia serta meningkatnya\\nkegiatan penelitian dan pengembangan di bidang perlindungan\\nkonsumen.\\n(5) Ketentuan lebih lanjut mengenai pembinaan penyelenggaraan\\nperlindungan konsumen diatur dengan Peraturan Pemerintah. ')]"
      ]
     },
     "execution_count": 12,
     "metadata": {},
     "output_type": "execute_result"
    }
   ],
   "source": [
    "pasal"
   ]
  }
 ],
 "metadata": {
  "kernelspec": {
   "display_name": "Python 3 (ipykernel)",
   "language": "python",
   "name": "python3"
  },
  "language_info": {
   "codemirror_mode": {
    "name": "ipython",
    "version": 3
   },
   "file_extension": ".py",
   "mimetype": "text/x-python",
   "name": "python",
   "nbconvert_exporter": "python",
   "pygments_lexer": "ipython3",
   "version": "3.9.18"
  }
 },
 "nbformat": 4,
 "nbformat_minor": 5
}
