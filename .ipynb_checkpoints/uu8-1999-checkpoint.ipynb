{
 "cells": [
  {
   "cell_type": "code",
   "execution_count": 50,
   "id": "8a9bfb8e-ed4d-4ce7-89c5-6261db50d41f",
   "metadata": {},
   "outputs": [],
   "source": [
    "import regex as re\n",
    "import pandas as pd"
   ]
  },
  {
   "cell_type": "code",
   "execution_count": 7,
   "id": "9451c2c5-c5e8-4809-8c9e-3a1a848aa437",
   "metadata": {},
   "outputs": [],
   "source": [
    "with open(\"uu8-1999.txt\") as file:\n",
    "    file = file.read()"
   ]
  },
  {
   "cell_type": "markdown",
   "id": "0748ee75-45e1-42bc-aee6-7c08b5b16944",
   "metadata": {},
   "source": [
    "## Remove Header"
   ]
  },
  {
   "cell_type": "code",
   "execution_count": 10,
   "id": "7a69c77f-857d-42c3-b0d5-85551f73a593",
   "metadata": {},
   "outputs": [],
   "source": [
    "file_no_header = re.sub(\"\\\\nPRESIDEN\\\\nREPUBLIK INDONESIA\\\\n- \\p{N}+ -\", \" \", file, flags=re.DOTALL)\n",
    "file_no_header = re.sub(\"(\\\\n[^\\\\n]*? \\…[^\\\\n]*)(?=\\\\n)\", \" \", file_no_header, flags=re.DOTALL)"
   ]
  },
  {
   "cell_type": "markdown",
   "id": "8834d421-15b1-4b96-95cd-06a32514f4f1",
   "metadata": {},
   "source": [
    "## Pisah Penjelasan"
   ]
  },
  {
   "cell_type": "code",
   "execution_count": 13,
   "id": "45ab6452-810b-4bab-bbc2-19f03ed5384e",
   "metadata": {},
   "outputs": [],
   "source": [
    "penjelasan = re.search(\"PRESIDEN\\\\nREPUBLIK INDONESIA\\\\nPENJELASAN.*\", file_no_header, re.DOTALL).group()\n",
    "badan = file_no_header.replace(penjelasan, \"\")"
   ]
  },
  {
   "cell_type": "markdown",
   "id": "f8275995-8cb0-493e-9c8b-c9e1a16f5fbf",
   "metadata": {},
   "source": [
    "## Ambil BAB"
   ]
  },
  {
   "cell_type": "code",
   "execution_count": 75,
   "id": "56de6ff4-efe1-48e3-95a0-93182f633a98",
   "metadata": {},
   "outputs": [],
   "source": [
    "def ambil_bab(text):\n",
    "    pattern = \"(?<=\\\\n)(BAB [IVXLCDM]+.*?)(?=\\\\nBAB|$)\"\n",
    "    bab = re.findall(pattern, text, re.DOTALL)\n",
    "    if bab:\n",
    "        ## ambil nomor dan nama bab\n",
    "        pattern_no = \"(?<=BAB)(?:\\s*)([IVXLCDM]+)\"\n",
    "        pattern_nama = \"(?<=BAB)(?:\\s*[IVXLCDM]+\\s*\\\\n)([\\p{Lu}\\s\\\\n]*)(?=\\\\n)\"\n",
    "        pattern_isi = \"(?<=BAB)(?:\\s*[IVXLCDM]+\\s*\\\\n[\\p{Lu}\\s\\\\n]*)(?:\\\\n)(.*)\"\n",
    "        no = [re.search(pattern_no, i, re.DOTALL).group(1) for i in bab]\n",
    "        nama = [re.search(pattern_nama, i, re.DOTALL).group(1) for i in bab]\n",
    "        isi = [re.search(pattern_isi, i, re.DOTALL).group(1) for i in bab]\n",
    "        return no, nama, isi\n",
    "    else:\n",
    "        no = [\"\"]\n",
    "        nama = [\"\"]\n",
    "        isi = [text]\n",
    "        return no, nama, isi"
   ]
  },
  {
   "cell_type": "code",
   "execution_count": 77,
   "id": "272dc028-7e1f-4f6c-9c7d-d7b853e7f037",
   "metadata": {},
   "outputs": [],
   "source": [
    "no_bab, nama_bab, isi_bab = ambil_bab(badan)\n",
    "df_bab = {\"no_bab\": no_bab, \"nama_bab\": nama_bab, \"isi_bab\": isi_bab}"
   ]
  },
  {
   "cell_type": "code",
   "execution_count": 81,
   "id": "7976da0b-e2a3-410b-82ff-76971dadc50e",
   "metadata": {},
   "outputs": [
    {
     "data": {
      "text/html": [
       "<div>\n",
       "<style scoped>\n",
       "    .dataframe tbody tr th:only-of-type {\n",
       "        vertical-align: middle;\n",
       "    }\n",
       "\n",
       "    .dataframe tbody tr th {\n",
       "        vertical-align: top;\n",
       "    }\n",
       "\n",
       "    .dataframe thead th {\n",
       "        text-align: right;\n",
       "    }\n",
       "</style>\n",
       "<table border=\"1\" class=\"dataframe\">\n",
       "  <thead>\n",
       "    <tr style=\"text-align: right;\">\n",
       "      <th></th>\n",
       "      <th>no_bab</th>\n",
       "      <th>nama_bab</th>\n",
       "      <th>isi_bab</th>\n",
       "    </tr>\n",
       "  </thead>\n",
       "  <tbody>\n",
       "    <tr>\n",
       "      <th>0</th>\n",
       "      <td>I</td>\n",
       "      <td>KETENTUAN UMUM</td>\n",
       "      <td>Pasal 1\\nDalam Undang-undang ini yang dimaksud...</td>\n",
       "    </tr>\n",
       "    <tr>\n",
       "      <th>1</th>\n",
       "      <td>II</td>\n",
       "      <td>ASAS DAN TUJUAN</td>\n",
       "      <td>Pasal 2\\nPerlindungan konsumen berasaskan manf...</td>\n",
       "    </tr>\n",
       "    <tr>\n",
       "      <th>2</th>\n",
       "      <td>III</td>\n",
       "      <td>HAK DAN KEWAJIBAN</td>\n",
       "      <td>Bagian Pertama\\nHak dan Kewajiban Konsumen\\nPa...</td>\n",
       "    </tr>\n",
       "    <tr>\n",
       "      <th>3</th>\n",
       "      <td>IV</td>\n",
       "      <td>PERBUATAN YANG DILARANG\\nBAGI PELAKU USAHA</td>\n",
       "      <td>Pasal 8\\n(1) Pelaku usaha dilarang memproduksi...</td>\n",
       "    </tr>\n",
       "    <tr>\n",
       "      <th>4</th>\n",
       "      <td>V</td>\n",
       "      <td>KETENTUAN PENCANTUMAN KLAUSULA BAKU</td>\n",
       "      <td>Pasal 18\\n(1) Pelaku usaha dalam menawarkan ba...</td>\n",
       "    </tr>\n",
       "    <tr>\n",
       "      <th>5</th>\n",
       "      <td>VI</td>\n",
       "      <td>TANGGUNG JAWAB PELAKU USAHA</td>\n",
       "      <td>Pasal 19\\n(1) Pelaku usaha bertanggung jawab m...</td>\n",
       "    </tr>\n",
       "    <tr>\n",
       "      <th>6</th>\n",
       "      <td>VII</td>\n",
       "      <td>PEMBINAAN DAN PENGAWASAN</td>\n",
       "      <td>Bagian Pertama\\nPembinaan\\nPasal 29\\n(1) Pemer...</td>\n",
       "    </tr>\n",
       "    <tr>\n",
       "      <th>7</th>\n",
       "      <td>VIII</td>\n",
       "      <td>BADAN PERLINDUNGAN KONSUMEN NASIONAL</td>\n",
       "      <td>Bagian Pertama \\nNama, Kedudukan, Fungsi, dan ...</td>\n",
       "    </tr>\n",
       "    <tr>\n",
       "      <th>8</th>\n",
       "      <td>IX</td>\n",
       "      <td>LEMBAGA PERLINDUNGAN KONSUMEN\\nSWADAYA MASYARAKAT</td>\n",
       "      <td>Pasal 44\\n(1) Pemerintah mengakui lembaga perl...</td>\n",
       "    </tr>\n",
       "    <tr>\n",
       "      <th>9</th>\n",
       "      <td>X</td>\n",
       "      <td>PENYELESAIAN SENGKETA</td>\n",
       "      <td>Bagian Pertama\\nUmum\\nPasal 45\\n(1) Setiap kon...</td>\n",
       "    </tr>\n",
       "    <tr>\n",
       "      <th>10</th>\n",
       "      <td>XI</td>\n",
       "      <td>BADAN PENYELESAIAN SENGKETA KONSUMEN</td>\n",
       "      <td>Pasal 49\\n(1) Pemerintah membentuk badan penye...</td>\n",
       "    </tr>\n",
       "    <tr>\n",
       "      <th>11</th>\n",
       "      <td>XII</td>\n",
       "      <td>PENYIDIKAN</td>\n",
       "      <td>Pasal 59\\n(1) Selain Pejabat Polisi Negara Rep...</td>\n",
       "    </tr>\n",
       "    <tr>\n",
       "      <th>12</th>\n",
       "      <td>XIII</td>\n",
       "      <td>SANKSI</td>\n",
       "      <td>Bagian Pertama\\nSanksi Administratif \\nPasal 6...</td>\n",
       "    </tr>\n",
       "    <tr>\n",
       "      <th>13</th>\n",
       "      <td>XIV</td>\n",
       "      <td>KETENTUAN PERALIHAN</td>\n",
       "      <td>Pasal 64\\nSegala ketentuan peraturan perundang...</td>\n",
       "    </tr>\n",
       "    <tr>\n",
       "      <th>14</th>\n",
       "      <td>XV</td>\n",
       "      <td>KETENTUAN PENUTUP</td>\n",
       "      <td>Pasal 65\\nUndang-undang ini mulai berlaku sete...</td>\n",
       "    </tr>\n",
       "  </tbody>\n",
       "</table>\n",
       "</div>"
      ],
      "text/plain": [
       "   no_bab                                           nama_bab  \\\n",
       "0       I                                     KETENTUAN UMUM   \n",
       "1      II                                    ASAS DAN TUJUAN   \n",
       "2     III                                  HAK DAN KEWAJIBAN   \n",
       "3      IV         PERBUATAN YANG DILARANG\\nBAGI PELAKU USAHA   \n",
       "4       V                KETENTUAN PENCANTUMAN KLAUSULA BAKU   \n",
       "5      VI                        TANGGUNG JAWAB PELAKU USAHA   \n",
       "6     VII                           PEMBINAAN DAN PENGAWASAN   \n",
       "7    VIII               BADAN PERLINDUNGAN KONSUMEN NASIONAL   \n",
       "8      IX  LEMBAGA PERLINDUNGAN KONSUMEN\\nSWADAYA MASYARAKAT   \n",
       "9       X                              PENYELESAIAN SENGKETA   \n",
       "10     XI               BADAN PENYELESAIAN SENGKETA KONSUMEN   \n",
       "11    XII                                         PENYIDIKAN   \n",
       "12   XIII                                             SANKSI   \n",
       "13    XIV                                KETENTUAN PERALIHAN   \n",
       "14     XV                                  KETENTUAN PENUTUP   \n",
       "\n",
       "                                              isi_bab  \n",
       "0   Pasal 1\\nDalam Undang-undang ini yang dimaksud...  \n",
       "1   Pasal 2\\nPerlindungan konsumen berasaskan manf...  \n",
       "2   Bagian Pertama\\nHak dan Kewajiban Konsumen\\nPa...  \n",
       "3   Pasal 8\\n(1) Pelaku usaha dilarang memproduksi...  \n",
       "4   Pasal 18\\n(1) Pelaku usaha dalam menawarkan ba...  \n",
       "5   Pasal 19\\n(1) Pelaku usaha bertanggung jawab m...  \n",
       "6   Bagian Pertama\\nPembinaan\\nPasal 29\\n(1) Pemer...  \n",
       "7   Bagian Pertama \\nNama, Kedudukan, Fungsi, dan ...  \n",
       "8   Pasal 44\\n(1) Pemerintah mengakui lembaga perl...  \n",
       "9   Bagian Pertama\\nUmum\\nPasal 45\\n(1) Setiap kon...  \n",
       "10  Pasal 49\\n(1) Pemerintah membentuk badan penye...  \n",
       "11  Pasal 59\\n(1) Selain Pejabat Polisi Negara Rep...  \n",
       "12  Bagian Pertama\\nSanksi Administratif \\nPasal 6...  \n",
       "13  Pasal 64\\nSegala ketentuan peraturan perundang...  \n",
       "14  Pasal 65\\nUndang-undang ini mulai berlaku sete...  "
      ]
     },
     "execution_count": 81,
     "metadata": {},
     "output_type": "execute_result"
    }
   ],
   "source": [
    "df_bab = pd.DataFrame(df_bab)\n",
    "df_bab"
   ]
  },
  {
   "cell_type": "markdown",
   "id": "7eb7c9f8-e6cc-4d9f-a2c4-de8915b67a5e",
   "metadata": {},
   "source": [
    "## Ambil Bagian"
   ]
  },
  {
   "cell_type": "code",
   "execution_count": 413,
   "id": "f3a7c7ee-d985-4897-baba-a6b4b5940716",
   "metadata": {},
   "outputs": [],
   "source": [
    "def ambil_bagian(text):\n",
    "    pattern = \"(?<=\\\\n|^)(Bagian \\p{Lu}.*?)(?=\\\\nBagian \\p{Lu}|$)\"\n",
    "    bagian = re.findall(pattern, text, re.DOTALL)\n",
    "    if bagian:\n",
    "        pattern_nama = \"(?<=Bagian \\p{Lu})(?:[\\p{L}\\s]*\\\\n)(.*?)(?=\\\\nPasal)\"\n",
    "        pattern_isi = \"Pasal.*\"\n",
    "        nama = [re.search(pattern_nama, i, re.DOTALL).group(0) for i in bagian]\n",
    "        isi = [re.search(pattern_isi, i, re.DOTALL).group(0) for i in bagian]\n",
    "        return nama, isi\n",
    "    else:\n",
    "        nama = [\"\"]\n",
    "        isi = [text]\n",
    "        return nama, isi"
   ]
  },
  {
   "cell_type": "code",
   "execution_count": 437,
   "id": "d7dd31c7-4872-44fa-b630-fcb2cbf95c3a",
   "metadata": {},
   "outputs": [],
   "source": [
    "text = \"Bagian Pertama \\nNama, Kedudukan, Fungsi, dan Tugas\\nPasal 31\\nDalam rangka mengembangkan upaya perlindungan konsumen dibentuk\\nBadan Perlindungan Konsumen Nasional.\\nPasal 32\\nBadan Perlindungan Konsumen Nasional berkedudukan di Ibu Kota\\nNegara Republik Indonesia dan bertanggung jawab kepada Presiden.\\nPasal 33\\nBadan Perlindungan Konsumen Nasional mempunyai fungsi\\nmemberikan saran dan pertimbangan kepada pemerintah dalam upaya\\nmengembangkan perlindungan konsumen di Indonesia.\\nPasal 34\\n(1) Untuk menjalankan fungsi sebgaimana dimaksud dalam Pasal 33\\nBadan Perlindungan Konsumen Nasional mempunyai tugas:\\na. memberikan saran dan rekomendasi kepada pemerintah dalam\\nrangka penyusunan kebijaksanaan di bidang perlindungan\\nkonsumen;\\nb. melakukan penelitian dan pengkajian terhadap peraturan\\nperundang-undangan yang berlaku di bidang perlindungan\\nkonsumen.\\nc. melakukan penelitian terhadap barang dan/atau jasa yang\\nmenyangkut keselamatan konsumen;\\nd. mendorong berkembangnya lembaga perlindungan konsumen\\nswadaya masyarakat.\\ne. menyebarluaskan informasi melalui media mengenai \\nperlindungan konsumen dan memasyarakatkan sikap\\nkeberpihakan kepada konsumen;\\nf. menerima pengaduan tentang perlindungan konsumen dari\\nmasyarakat, lembaga perlindungan konsumen swadaya\\nmasyarakat, atau pelaku usaha;\\ng. melakukan survei yang menyangkut kebutuhan konsumen.\\n(2) Dalam melaksanakan tugas sebagaimana dimaksud pada ayat (1),\\nBadan perlindungan Konsumen Nasional dapat bekerja sama dengan\\norganisasi konsumen internasional.\\nBagian Kedua\\nSusunan Organisasi dan Keanggotaan\\nPasal 35\\n(1) Badan Perlindungan Konsumen Nasional terdiri atas seorang ketua\\nmerangkap anggota, seorang wakil ketua merangkap anggota, serta\\nsekurang-kurangnya 15 (lima belas) orang dan sebanyak-banyaknya\\n25 (dua puluh lima) orang anggota yang mewakili semua unsur.\\n(2) Anggota Badan perlindungan Konsumen Nasional diangkat dan\\ndiberhentikan oleh Presiden atas usul Menteri, setelah\\ndikonsultasikan kepada Dewan Perwakilan Rakyat Republik\\nIndonesia.\\n(3) Masa jabatan ketua, wakil ketua, dan anggota Badan Perlindungan\\nKonsumen Nasional selama 3 (tiga) tahun dan dapat diangkat\\nkembali untuk 1 (satu) kali masa jabatan berikutnya.\\n(4) Ketua dan wakil ketua Badan Perlindungan Konsumen Nasional\\ndipilih oleh anggota.\\nPasal 36\\nAnggota Badan Perlindungan Konsumen Nasional terdiri atas unsur: \\na. pemerintah;\\nb. pelaku usaha;\\nc. lembaga perlindungan konsumen swadaya masyarakat;\\nd. akademis; dan\\ne. tenaga ahli.\\nPasal 37\\nPersyaratan keanggotaan Badan Perlindungan Konsumen Nasional\\nadalah:\\na. warga negara Republik Indonesia;\\nb. berbadan sehat;\\nc. berkelakuan baik;\\nd. tidak pernah dihukum karena kejahatan;\\ne. memiliki pengetahuan dan pengalaman di bidang perlindungan\\nkonsumen; dan\\nf. berusia sekurang-kurangnya 30 (tiga puluh) tahun.\\nPasal 38\\nKeanggotaan Badan Perlindungan Konsumen Nasional berhenti karena:\\na. meninggal dunia;\\nb. mengundurkan diri atas permintaan sendiri;\\nc. bertempat tinggal di luar wilayah negara Republik Indonesia;\\nd. sakit secara terus menerus;\\ne. berakhir masa jabatan sebagai anggota; atau\\nf. diberhentikan.\\nPasal 39 \\n(1) Untuk kelancaran pelaksanaan tugas, Badan Perlindungan\\nKonsumen Nasional dibantu oleh sekretariat.\\n(2) Sekretariat sebagaimana dimaksud pada ayat (1) dipimpin oleh\\nseorang sekretaris yang diangkat oleh Ketua Badan Perlindungan\\nKonsumen Nasional.\\n(3) Fungsi, tugas, dan tata kerja sekretariat sebagaimana dimaksud pada\\nayat (1) diatur dalam keputusan Ketua Badan Perlindungan\\nKonsumen Nasional.\\nPasal 40\\n(1) Apabila diperlukan Badan Perlindungan Konsumen Nasional dapat\\nmembentuk Perwakilan di Ibu Kota Daerah Tingkat I untuk\\nmembantu pelaksanaan tugasnya.\\n(2) Pembentukan perwakilan sebagaimana dimaksud pada ayat (1)\\nditetapkan lebih lanjut dengan keputusan Ketua Badan Perlindungan\\nKonsumen Nasional.\\nPasal 41\\nDalam pelaksanaan tugas, Badan Perlindungan Konsumen Nasional\\nbekerja berdasarkan tata kerja yang diatur dengan keputusan Ketua\\nBadan Perlindungan Konsumen Nasional.\\nPasal 42\\nBiaya untuk pelaksanaan tugas Badan Perlindungan Konsumen\\nNasional dibebankan kepada anggaran pendapatan dan belanja negara \\ndan sumber lain yang sesuai dengan peraturan perundang-undangan\\nyang berlaku.\\nPasal 43\\nKetentuan lebih lanjut mengenai pembentukan Badan Perlindungan\\nKonsumen Nasional diatur dalam Peraturan Pemerintah.\"\n",
    "\n",
    "nama_bagian, isi_bagian = ambil_bagian(text)\n",
    "df_bagian = {\"nama_bagian\": nama_bagian, \"isi_bagian\": isi_bagian}"
   ]
  },
  {
   "cell_type": "code",
   "execution_count": 441,
   "id": "9ae7dd2f-b931-4347-b7b7-d473a5170879",
   "metadata": {},
   "outputs": [
    {
     "data": {
      "text/html": [
       "<div>\n",
       "<style scoped>\n",
       "    .dataframe tbody tr th:only-of-type {\n",
       "        vertical-align: middle;\n",
       "    }\n",
       "\n",
       "    .dataframe tbody tr th {\n",
       "        vertical-align: top;\n",
       "    }\n",
       "\n",
       "    .dataframe thead th {\n",
       "        text-align: right;\n",
       "    }\n",
       "</style>\n",
       "<table border=\"1\" class=\"dataframe\">\n",
       "  <thead>\n",
       "    <tr style=\"text-align: right;\">\n",
       "      <th></th>\n",
       "      <th>nama_bagian</th>\n",
       "      <th>isi_bagian</th>\n",
       "    </tr>\n",
       "  </thead>\n",
       "  <tbody>\n",
       "    <tr>\n",
       "      <th>0</th>\n",
       "      <td>ertama \\nNama, Kedudukan, Fungsi, dan Tugas</td>\n",
       "      <td>Pasal 31\\nDalam rangka mengembangkan upaya per...</td>\n",
       "    </tr>\n",
       "    <tr>\n",
       "      <th>1</th>\n",
       "      <td>edua\\nSusunan Organisasi dan Keanggotaan\\nPasa...</td>\n",
       "      <td>Pasal 35\\n(1) Badan Perlindungan Konsumen Nasi...</td>\n",
       "    </tr>\n",
       "  </tbody>\n",
       "</table>\n",
       "</div>"
      ],
      "text/plain": [
       "                                         nama_bagian  \\\n",
       "0        ertama \\nNama, Kedudukan, Fungsi, dan Tugas   \n",
       "1  edua\\nSusunan Organisasi dan Keanggotaan\\nPasa...   \n",
       "\n",
       "                                          isi_bagian  \n",
       "0  Pasal 31\\nDalam rangka mengembangkan upaya per...  \n",
       "1  Pasal 35\\n(1) Badan Perlindungan Konsumen Nasi...  "
      ]
     },
     "execution_count": 441,
     "metadata": {},
     "output_type": "execute_result"
    }
   ],
   "source": [
    "df_bagian = pd.DataFrame(df_bagian)\n",
    "df_bagian"
   ]
  },
  {
   "cell_type": "code",
   "execution_count": 303,
   "id": "ea719d9c-e034-4a61-9ec3-54211fa5a3af",
   "metadata": {},
   "outputs": [
    {
     "data": {
      "text/plain": [
       "'Bagian Pertama \\nNama, Kedudukan, Fungsi, dan Tugas\\nPasal 31\\nDalam rangka mengembangkan upaya perlindungan konsumen dibentuk\\nBadan Perlindungan Konsumen Nasional.\\nPasal 32\\nBadan Perlindungan Konsumen Nasional berkedudukan di Ibu Kota\\nNegara Republik Indonesia dan bertanggung jawab kepada Presiden.\\nPasal 33\\nBadan Perlindungan Konsumen Nasional mempunyai fungsi\\nmemberikan saran dan pertimbangan kepada pemerintah dalam upaya\\nmengembangkan perlindungan konsumen di Indonesia.\\nPasal 34\\n(1) Untuk menjalankan fungsi sebgaimana dimaksud dalam Pasal 33\\nBadan Perlindungan Konsumen Nasional mempunyai tugas:\\na. memberikan saran dan rekomendasi kepada pemerintah dalam\\nrangka penyusunan kebijaksanaan di bidang perlindungan\\nkonsumen;\\nb. melakukan penelitian dan pengkajian terhadap peraturan\\nperundang-undangan yang berlaku di bidang perlindungan\\nkonsumen.\\nc. melakukan penelitian terhadap barang dan/atau jasa yang\\nmenyangkut keselamatan konsumen;\\nd. mendorong berkembangnya lembaga perlindungan konsumen\\nswadaya masyarakat.\\ne. menyebarluaskan informasi melalui media mengenai \\nperlindungan konsumen dan memasyarakatkan sikap\\nkeberpihakan kepada konsumen;\\nf. menerima pengaduan tentang perlindungan konsumen dari\\nmasyarakat, lembaga perlindungan konsumen swadaya\\nmasyarakat, atau pelaku usaha;\\ng. melakukan survei yang menyangkut kebutuhan konsumen.\\n(2) Dalam melaksanakan tugas sebagaimana dimaksud pada ayat (1),\\nBadan perlindungan Konsumen Nasional dapat bekerja sama dengan\\norganisasi konsumen internasional.\\nBagian Kedua\\nSusunan Organisasi dan Keanggotaan\\nPasal 35\\n(1) Badan Perlindungan Konsumen Nasional terdiri atas seorang ketua\\nmerangkap anggota, seorang wakil ketua merangkap anggota, serta\\nsekurang-kurangnya 15 (lima belas) orang dan sebanyak-banyaknya\\n25 (dua puluh lima) orang anggota yang mewakili semua unsur.\\n(2) Anggota Badan perlindungan Konsumen Nasional diangkat dan\\ndiberhentikan oleh Presiden atas usul Menteri, setelah\\ndikonsultasikan kepada Dewan Perwakilan Rakyat Republik\\nIndonesia.\\n(3) Masa jabatan ketua, wakil ketua, dan anggota Badan Perlindungan\\nKonsumen Nasional selama 3 (tiga) tahun dan dapat diangkat\\nkembali untuk 1 (satu) kali masa jabatan berikutnya.\\n(4) Ketua dan wakil ketua Badan Perlindungan Konsumen Nasional\\ndipilih oleh anggota.\\nPasal 36\\nAnggota Badan Perlindungan Konsumen Nasional terdiri atas unsur: \\na. pemerintah;\\nb. pelaku usaha;\\nc. lembaga perlindungan konsumen swadaya masyarakat;\\nd. akademis; dan\\ne. tenaga ahli.\\nPasal 37\\nPersyaratan keanggotaan Badan Perlindungan Konsumen Nasional\\nadalah:\\na. warga negara Republik Indonesia;\\nb. berbadan sehat;\\nc. berkelakuan baik;\\nd. tidak pernah dihukum karena kejahatan;\\ne. memiliki pengetahuan dan pengalaman di bidang perlindungan\\nkonsumen; dan\\nf. berusia sekurang-kurangnya 30 (tiga puluh) tahun.\\nPasal 38\\nKeanggotaan Badan Perlindungan Konsumen Nasional berhenti karena:\\na. meninggal dunia;\\nb. mengundurkan diri atas permintaan sendiri;\\nc. bertempat tinggal di luar wilayah negara Republik Indonesia;\\nd. sakit secara terus menerus;\\ne. berakhir masa jabatan sebagai anggota; atau\\nf. diberhentikan.\\nPasal 39 \\n(1) Untuk kelancaran pelaksanaan tugas, Badan Perlindungan\\nKonsumen Nasional dibantu oleh sekretariat.\\n(2) Sekretariat sebagaimana dimaksud pada ayat (1) dipimpin oleh\\nseorang sekretaris yang diangkat oleh Ketua Badan Perlindungan\\nKonsumen Nasional.\\n(3) Fungsi, tugas, dan tata kerja sekretariat sebagaimana dimaksud pada\\nayat (1) diatur dalam keputusan Ketua Badan Perlindungan\\nKonsumen Nasional.\\nPasal 40\\n(1) Apabila diperlukan Badan Perlindungan Konsumen Nasional dapat\\nmembentuk Perwakilan di Ibu Kota Daerah Tingkat I untuk\\nmembantu pelaksanaan tugasnya.\\n(2) Pembentukan perwakilan sebagaimana dimaksud pada ayat (1)\\nditetapkan lebih lanjut dengan keputusan Ketua Badan Perlindungan\\nKonsumen Nasional.\\nPasal 41\\nDalam pelaksanaan tugas, Badan Perlindungan Konsumen Nasional\\nbekerja berdasarkan tata kerja yang diatur dengan keputusan Ketua\\nBadan Perlindungan Konsumen Nasional.\\nPasal 42\\nBiaya untuk pelaksanaan tugas Badan Perlindungan Konsumen\\nNasional dibebankan kepada anggaran pendapatan dan belanja negara \\ndan sumber lain yang sesuai dengan peraturan perundang-undangan\\nyang berlaku.\\nPasal 43\\nKetentuan lebih lanjut mengenai pembentukan Badan Perlindungan\\nKonsumen Nasional diatur dalam Peraturan Pemerintah.'"
      ]
     },
     "execution_count": 303,
     "metadata": {},
     "output_type": "execute_result"
    }
   ],
   "source": [
    "df_bab[\"isi_bab\"][7]"
   ]
  },
  {
   "cell_type": "markdown",
   "id": "babc6ef6-0d7a-45b7-afdd-04cfd6e4dae3",
   "metadata": {},
   "source": [
    "## Ambil Pasal"
   ]
  },
  {
   "cell_type": "code",
   "execution_count": 207,
   "id": "7bdb2ece-7f52-4f02-a5a2-0cbacad7dd70",
   "metadata": {},
   "outputs": [],
   "source": [
    "def ambil_pasal(text):\n",
    "    pattern = \"(?<=\\\\n|^)(Pasal \\p{N}+\\s*\\\\n.*?)(?=\\\\nPasal|$)\"\n",
    "    pasal = re.findall(pattern, text, re.DOTALL)\n",
    "    if pasal:\n",
    "        pattern_no = \"(?<=Pasal)(?:\\s*)(\\p{N}+)\"\n",
    "        pattern_isi = \"(?<=Pasal)(?:\\s*\\p{N}+\\\\n)(.*)\"\n",
    "        no = [re.search(pattern_no, i, re.DOTALL).group(1) for i in pasal]\n",
    "        isi = [re.search(pattern_isi, i, re.DOTALL).group(1) for i in pasal]\n",
    "        return no, isi\n",
    "    else:\n",
    "        no = [\"\"]\n",
    "        isi = [text]\n",
    "        return no, isi"
   ]
  },
  {
   "cell_type": "code",
   "execution_count": 218,
   "id": "9f48cf3a-4f5b-4134-8a6c-d18ad9b276f5",
   "metadata": {},
   "outputs": [],
   "source": [
    "no_pasal, isi_pasal = ambil_pasal(df_bagian[\"isi_bagian\"][0])\n",
    "df_pasal = {\"no_pasal\": no_pasal, \"isi_pasal\": isi_pasal}"
   ]
  },
  {
   "cell_type": "code",
   "execution_count": 227,
   "id": "636fd2f9-cf15-4554-8ffb-5b14dcfa9c97",
   "metadata": {},
   "outputs": [
    {
     "data": {
      "text/html": [
       "<div>\n",
       "<style scoped>\n",
       "    .dataframe tbody tr th:only-of-type {\n",
       "        vertical-align: middle;\n",
       "    }\n",
       "\n",
       "    .dataframe tbody tr th {\n",
       "        vertical-align: top;\n",
       "    }\n",
       "\n",
       "    .dataframe thead th {\n",
       "        text-align: right;\n",
       "    }\n",
       "</style>\n",
       "<table border=\"1\" class=\"dataframe\">\n",
       "  <thead>\n",
       "    <tr style=\"text-align: right;\">\n",
       "      <th></th>\n",
       "      <th>no_pasal</th>\n",
       "      <th>isi_pasal</th>\n",
       "    </tr>\n",
       "  </thead>\n",
       "  <tbody>\n",
       "    <tr>\n",
       "      <th>0</th>\n",
       "      <td>29</td>\n",
       "      <td>(1) Pemerintah bertanggung jawab atas pembinaa...</td>\n",
       "    </tr>\n",
       "  </tbody>\n",
       "</table>\n",
       "</div>"
      ],
      "text/plain": [
       "  no_pasal                                          isi_pasal\n",
       "0       29  (1) Pemerintah bertanggung jawab atas pembinaa..."
      ]
     },
     "execution_count": 227,
     "metadata": {},
     "output_type": "execute_result"
    }
   ],
   "source": [
    "df_pasal = pd.DataFrame(df_pasal)\n",
    "df_pasal"
   ]
  },
  {
   "cell_type": "markdown",
   "id": "ab291897-d81c-484f-95df-895451185837",
   "metadata": {},
   "source": [
    "## Ambil Ayat"
   ]
  },
  {
   "cell_type": "code",
   "execution_count": 285,
   "id": "361eb637-4e8e-4813-bccb-35c2c09a6fa6",
   "metadata": {},
   "outputs": [],
   "source": [
    "def ambil_ayat(text):\n",
    "    clean_pasal = re.sub('(?<=ayat )(\\\\n)(?=\\(\\p{N}\\))', \"\", text, flags=re.DOTALL)\n",
    "    ayat = re.findall('(?<=\\\\n|^)(\\(\\p{N}+\\).*?)(?=\\\\n\\(\\p{N}\\)|$)', text, flags=re.DOTALL)\n",
    "    \n",
    "    if ayat:\n",
    "        pattern_no = \"(?<=\\\\n|^)(?:\\()(\\p{N}+)(?=\\))\"\n",
    "        pattern_isi = \"(?<=\\(\\p{N}+\\)\\s)(.*)\"\n",
    "        no = [re.search(pattern_no, i, re.DOTALL).group(1) for i in ayat]\n",
    "        isi = [re.search(pattern_isi, i, re.DOTALL).group(0) for i in ayat]\n",
    "        \n",
    "        return no, isi"
   ]
  },
  {
   "cell_type": "code",
   "execution_count": 287,
   "id": "9caf3fad-aeef-4470-a280-3fdb463e07e8",
   "metadata": {},
   "outputs": [],
   "source": [
    "no_ayat, isi_ayat = ambil_ayat(df_pasal[\"isi_pasal\"][0])\n",
    "df_ayat = {\"no_ayat\": no_ayat, \"isi_ayat\": isi_ayat}"
   ]
  },
  {
   "cell_type": "code",
   "execution_count": 289,
   "id": "1bc627dc-bac7-4741-a86e-42d4bd3dd670",
   "metadata": {},
   "outputs": [
    {
     "data": {
      "text/html": [
       "<div>\n",
       "<style scoped>\n",
       "    .dataframe tbody tr th:only-of-type {\n",
       "        vertical-align: middle;\n",
       "    }\n",
       "\n",
       "    .dataframe tbody tr th {\n",
       "        vertical-align: top;\n",
       "    }\n",
       "\n",
       "    .dataframe thead th {\n",
       "        text-align: right;\n",
       "    }\n",
       "</style>\n",
       "<table border=\"1\" class=\"dataframe\">\n",
       "  <thead>\n",
       "    <tr style=\"text-align: right;\">\n",
       "      <th></th>\n",
       "      <th>no_ayat</th>\n",
       "      <th>isi_ayat</th>\n",
       "    </tr>\n",
       "  </thead>\n",
       "  <tbody>\n",
       "    <tr>\n",
       "      <th>0</th>\n",
       "      <td>1</td>\n",
       "      <td>Pemerintah bertanggung jawab atas pembinaan pe...</td>\n",
       "    </tr>\n",
       "    <tr>\n",
       "      <th>1</th>\n",
       "      <td>2</td>\n",
       "      <td>Pembinaan oleh pemerintah atas penyelenggaraan...</td>\n",
       "    </tr>\n",
       "    <tr>\n",
       "      <th>2</th>\n",
       "      <td>3</td>\n",
       "      <td>Menteri sebagaimana dimaksud pada ayat (2) mel...</td>\n",
       "    </tr>\n",
       "    <tr>\n",
       "      <th>3</th>\n",
       "      <td>4</td>\n",
       "      <td>Pembinaan penyelenggaraan perlindungan konsume...</td>\n",
       "    </tr>\n",
       "    <tr>\n",
       "      <th>4</th>\n",
       "      <td>5</td>\n",
       "      <td>Ketentuan lebih lanjut mengenai pembinaan peny...</td>\n",
       "    </tr>\n",
       "  </tbody>\n",
       "</table>\n",
       "</div>"
      ],
      "text/plain": [
       "  no_ayat                                           isi_ayat\n",
       "0       1  Pemerintah bertanggung jawab atas pembinaan pe...\n",
       "1       2  Pembinaan oleh pemerintah atas penyelenggaraan...\n",
       "2       3  Menteri sebagaimana dimaksud pada ayat (2) mel...\n",
       "3       4  Pembinaan penyelenggaraan perlindungan konsume...\n",
       "4       5  Ketentuan lebih lanjut mengenai pembinaan peny..."
      ]
     },
     "execution_count": 289,
     "metadata": {},
     "output_type": "execute_result"
    }
   ],
   "source": [
    "pd.DataFrame(df_ayat)"
   ]
  }
 ],
 "metadata": {
  "kernelspec": {
   "display_name": "Python 3 (ipykernel)",
   "language": "python",
   "name": "python3"
  },
  "language_info": {
   "codemirror_mode": {
    "name": "ipython",
    "version": 3
   },
   "file_extension": ".py",
   "mimetype": "text/x-python",
   "name": "python",
   "nbconvert_exporter": "python",
   "pygments_lexer": "ipython3",
   "version": "3.9.18"
  }
 },
 "nbformat": 4,
 "nbformat_minor": 5
}
