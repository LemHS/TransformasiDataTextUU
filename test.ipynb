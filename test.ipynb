{
 "cells": [
  {
   "cell_type": "code",
   "execution_count": 1,
   "id": "30f3898f-d640-4f09-8e44-204e73ac2891",
   "metadata": {},
   "outputs": [],
   "source": [
    "import regex as re"
   ]
  },
  {
   "cell_type": "code",
   "execution_count": 2,
   "id": "92d09fa8-3469-4237-8a53-a0ebc30bc000",
   "metadata": {},
   "outputs": [],
   "source": [
    "with open(\"UU_27_2014.txt\") as test_file:\n",
    "    file = test_file.read()"
   ]
  },
  {
   "cell_type": "code",
   "execution_count": 3,
   "id": "04a5161d-2a14-4f42-819d-a281836adc59",
   "metadata": {},
   "outputs": [],
   "source": [
    "def pisah_penjelasan(text):\n",
    "    pattern = \"PENJELASAN \\\\nATAS \\\\nUNDANG-UNDANG.*\"\n",
    "    match = re.search(pattern, text, re.DOTALL)\n",
    "    if match:\n",
    "        penjelasan = match.group()\n",
    "        badan = text.replace(\"\\n\" + penjelasan, \"\")\n",
    "        return badan, penjelasan"
   ]
  },
  {
   "cell_type": "code",
   "execution_count": 4,
   "id": "feb86960-30f1-4d8e-91fd-3d6d3714d08d",
   "metadata": {},
   "outputs": [],
   "source": [
    "badan, penjelasan = pisah_penjelasan(file)"
   ]
  },
  {
   "cell_type": "code",
   "execution_count": 5,
   "id": "0ce537f1-0d8c-4c08-9959-bc475aa6d31b",
   "metadata": {},
   "outputs": [],
   "source": [
    "def ambil_pasal(text):\n",
    "    pattern = \"(?<=\\\\n)(Pasal \\p{N}*\\\\n.*?)(?=\\\\nPasal|$)\"\n",
    "    match = re.findall(pattern, text, re.DOTALL)\n",
    "    if match:\n",
    "        return match"
   ]
  },
  {
   "cell_type": "code",
   "execution_count": 6,
   "id": "44d0c0cb-a250-463b-9f5b-a3c55a77176e",
   "metadata": {},
   "outputs": [
    {
     "name": "stdout",
     "output_type": "stream",
     "text": [
      "Pasal 1\n",
      "Dalam Undang-Undang ini, yang dimaksud dengan: \n",
      "1. Anggaran Pendapatan dan Belanja Negara, yang \n",
      "selanjutnya disingkat APBN, adalah rencana keuangan \n",
      "tahunan pemerintahan negara yang disetujui oleh Dewan \n",
      "Perwakilan Rakyat. \n",
      "2. Pendapatan Negara adalah hak Pemerintah Pusat yang\n",
      "diakui sebagai penambah kekayaan bersih yang terdiri atas\n",
      "Penerimaan Perpajakan, Penerimaan Negara Bukan Pajak,\n",
      "dan Penerimaan Hibah\n",
      "3. Penerimaan Perpajakan adalah semua penerimaan negara \n",
      "yang terdiri atas Pendapatan Pajak Dalam Negeri dan \n",
      "Pendapatan Pajak Perdagangan Internasional.\n",
      "4. Pendapatan Pajak Dalam Negeri adalah semua penerimaan \n",
      "negara yang berasal dari pendapatan pajak penghasilan, \n",
      "pendapatan pajak pertambahan nilai barang dan jasa dan \n",
      "pendapatan pajak penjualan atas barang mewah, \n",
      "pendapatan pajak bumi dan bangunan, pendapatan cukai, \n",
      "dan pendapatan pajak lainnya.\n",
      "5. Pendapatan Pajak Perdagangan Internasional adalah \n",
      "semua penerimaan negara yang berasal dari pendapatan\n",
      "bea masuk dan pendapatan bea keluar.\n",
      "6. Penerimaan Negara Bukan Pajak, yang selanjutnya \n",
      "disingkat PNBP, adalah semua penerimaan Pemerintah \n",
      "Pusat yang diterima dalam bentuk penerimaan dari sumber \n",
      "daya alam, pendapatan bagian laba Badan Usaha Milik \n",
      "Negara (BUMN), PNBP lainnya, serta pendapatan Badan \n",
      "Layanan Umum (BLU).\n",
      "7. Penerimaan Hibah adalah semua penerimaan negara baik \n",
      "dalam bentuk devisa dan/atau devisa yang dirupiahkan, \n",
      "rupiah, jasa, dan/atau surat berharga yang diperoleh dari \n",
      "pemberi hibah yang tidak perlu dibayar kembali dan yang \n",
      "tidak mengikat, baik yang berasal dari dalam negeri \n",
      "maupun dari luar negeri. \n",
      "8. Belanja Negara adalah kewajiban Pemerintah Pusat yang \n",
      "diakui sebagai pengurang nilai kekayaan bersih yang \n",
      "terdiri atas belanja Pemerintah Pusat dan Transfer ke \n",
      "Daerah dan Dana Desa.\n",
      "9. Belanja Pemerintah Pusat Menurut Organisasi adalah \n",
      "belanja Pemerintah Pusat yang dialokasikan kepada \n",
      "Kementerian Negara/Lembaga dan Bagian Anggaran \n",
      "Bendahara Umum Negara.\n",
      "10. Bagian Anggaran Bendahara Umum Negara, yang \n",
      "selanjutnya disingkat BA-BUN, adalah bagian anggaran \n",
      "yang dikelola oleh Menteri Keuangan selaku pengelola \n",
      "fiskal.\n",
      "Pasal 2\n",
      "APBN terdiri atas anggaran Pendapatan Negara, anggaran \n",
      "Belanja Negara, dan Pembiayaan Anggaran.\n",
      "Pasal 3\n",
      "Anggaran Pendapatan Negara Tahun Anggaran 2015 \n",
      "direncanakan sebesar Rp1.793.588.917.577.000,00 (satu \n",
      "kuadriliun tujuh ratus sembilan puluh tiga triliun lima ratus \n",
      "delapan puluh delapan miliar sembilan ratus tujuh belas juta \n",
      "lima ratus tujuh puluh tujuh ribu rupiah), yang diperoleh dari \n",
      "sumber:\n",
      "a. Penerimaan Perpajakan; \n",
      "b. PNBP; dan\n",
      "c. Penerimaan Hibah.\n",
      "Pasal 4\n",
      "(1) Penerimaan Perpajakan sebagaimana dimaksud \n",
      "dalam Pasal 3 huruf a direncanakan sebesar \n",
      "Rp1.379.991.627.125.000,00 (satu kuadriliun tiga ratus \n",
      "tujuh puluh sembilan triliun sembilan ratus sembilan \n",
      "puluh satu miliar enam ratus dua puluh tujuh juta seratus \n",
      "dua puluh lima ribu rupiah), yang terdiri atas: \n",
      "a. Pendapatan Pajak Dalam Negeri; dan\n",
      "b. Pendapatan Pajak Perdagangan Internasional.\n",
      "(2) Pendapatan Pajak Dalam Negeri sebagaimana dimaksud \n",
      "pada ayat (1) huruf a direncanakan sebesar \n",
      "Rp1.328.487.827.125.000,00 (satu kuadriliun tiga ratus \n",
      "dua puluh delapan triliun empat ratus delapan puluh \n",
      "tujuh miliar delapan ratus dua puluh tujuh juta seratus \n",
      "dua puluh lima ribu rupiah), yang terdiri atas:\n",
      "a. pendapatan pajak penghasilan;\n",
      "b. pendapatan pajak pertambahan nilai barang dan jasa \n",
      "dan pajak penjualan atas barang mewah;\n",
      "c. pendapatan pajak bumi dan bangunan;\n",
      "d. pendapatan cukai; dan\n",
      "e. pendapatan pajak lainnya.\n",
      "Pasal 5\n",
      "(1) PNBP sebagaimana dimaksud dalam Pasal 3 huruf b \n",
      "direncanakan sebesar Rp410.340.976.934.000,00 (empat \n",
      "ratus sepuluh triliun tiga ratus empat puluh miliar \n",
      "sembilan ratus tujuh puluh enam juta sembilan ratus tiga \n",
      "puluh empat ribu rupiah), yang terdiri atas:\n",
      "a. penerimaan sumber daya alam; \n",
      "b. pendapatan bagian laba BUMN; \n",
      "c. PNBP lainnya; dan\n",
      "d. pendapatan BLU.\n",
      "(2) Penerimaan sumber daya alam sebagaimana dimaksud \n",
      "pada ayat (1) huruf a direncanakan sebesar \n",
      "Rp254.270.471.590.000,00 (dua ratus lima puluh empat \n",
      "triliun dua ratus tujuh puluh miliar empat ratus tujuh \n",
      "puluh satu juta lima ratus sembilan puluh ribu rupiah), \n",
      "yang terdiri atas:\n",
      "a. penerimaan sumber daya alam minyak bumi dan gas \n",
      "bumi (SDA migas); dan \n",
      "b. penerimaan sumber daya alam non-minyak bumi dan \n",
      "gas bumi (SDA nonmigas).\n",
      "Pasal 6\n",
      "Penerimaan Hibah sebagaimana dimaksud dalam Pasal 3 \n",
      "huruf c direncanakan sebesar Rp3.256.313.518.000,00 (tiga \n",
      "triliun dua ratus lima puluh enam miliar tiga ratus tiga belas \n",
      "juta lima ratus delapan belas ribu rupiah).\n",
      "Pasal 7\n",
      "Anggaran Belanja Negara Tahun Anggaran 2015 direncanakan \n",
      "sebesar Rp2.039.483.607.639.000,00 (dua kuadriliun tiga \n",
      "puluh sembilan triliun empat ratus delapan puluh tiga miliar \n",
      "enam ratus tujuh juta enam ratus tiga puluh sembilan ribu \n",
      "rupiah), yang terdiri atas:\n",
      "a. anggaran Belanja Pemerintah Pusat; dan \n",
      "b. anggaran Transfer ke Daerah dan Dana Desa.\n"
     ]
    }
   ],
   "source": [
    "for i in ambil_pasal(badan):\n",
    "    print(i)"
   ]
  }
 ],
 "metadata": {
  "kernelspec": {
   "display_name": "Python 3 (ipykernel)",
   "language": "python",
   "name": "python3"
  },
  "language_info": {
   "codemirror_mode": {
    "name": "ipython",
    "version": 3
   },
   "file_extension": ".py",
   "mimetype": "text/x-python",
   "name": "python",
   "nbconvert_exporter": "python",
   "pygments_lexer": "ipython3",
   "version": "3.9.18"
  },
  "toc-showtags": false
 },
 "nbformat": 4,
 "nbformat_minor": 5
}
