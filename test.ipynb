{
 "cells": [
  {
   "cell_type": "code",
   "execution_count": 1,
   "id": "30f3898f-d640-4f09-8e44-204e73ac2891",
   "metadata": {},
   "outputs": [],
   "source": [
    "import regex as re"
   ]
  },
  {
   "cell_type": "code",
   "execution_count": 2,
   "id": "92d09fa8-3469-4237-8a53-a0ebc30bc000",
   "metadata": {},
   "outputs": [],
   "source": [
    "with open(\"UU_27_2014.txt\") as test_file:\n",
    "    file = test_file.read()"
   ]
  },
  {
   "cell_type": "code",
   "execution_count": 3,
   "id": "04a5161d-2a14-4f42-819d-a281836adc59",
   "metadata": {},
   "outputs": [],
   "source": [
    "def pisah_penjelasan(text):\n",
    "    pattern = \"PENJELASAN \\\\nATAS \\\\nUNDANG-UNDANG.*\"\n",
    "    match = re.search(pattern, text, re.DOTALL)\n",
    "    if match:\n",
    "        penjelasan = match.group()\n",
    "        badan = text.replace(\"\\n\" + penjelasan, \"\")\n",
    "        return badan, penjelasan"
   ]
  },
  {
   "cell_type": "code",
   "execution_count": 4,
   "id": "feb86960-30f1-4d8e-91fd-3d6d3714d08d",
   "metadata": {},
   "outputs": [],
   "source": [
    "badan, penjelasan = pisah_penjelasan(file)"
   ]
  },
  {
   "cell_type": "code",
   "execution_count": 5,
   "id": "0ce537f1-0d8c-4c08-9959-bc475aa6d31b",
   "metadata": {},
   "outputs": [],
   "source": [
    "def ambil_pasal(text):\n",
    "    pattern = \"(?<=\\\\n)(Pasal \\p{N}+\\\\n.*?)(?=\\\\nPasal|$)\"\n",
    "    match = re.findall(pattern, text, re.DOTALL)\n",
    "    if match:\n",
    "        return match"
   ]
  },
  {
   "cell_type": "markdown",
   "id": "16b4043e-5309-4c45-9208-e4a360716f92",
   "metadata": {},
   "source": [
    "Regex digunakan untuk melihat semua string yang dimuali dengan \\nPasal \\p{N}+\\\\n tanpa mengambil \\n dan diakhiri dengan \\nPasal atau end string"
   ]
  },
  {
   "cell_type": "code",
   "execution_count": 6,
   "id": "44d0c0cb-a250-463b-9f5b-a3c55a77176e",
   "metadata": {},
   "outputs": [],
   "source": [
    "pasal = ambil_pasal(badan)\n",
    "penjelasan_pasal = ambil_pasal(penjelasan)"
   ]
  },
  {
   "cell_type": "code",
   "execution_count": null,
   "id": "7d6b71e8-fd36-4c3b-a745-24b83149708a",
   "metadata": {},
   "outputs": [],
   "source": []
  }
 ],
 "metadata": {
  "kernelspec": {
   "display_name": "Python 3 (ipykernel)",
   "language": "python",
   "name": "python3"
  },
  "language_info": {
   "codemirror_mode": {
    "name": "ipython",
    "version": 3
   },
   "file_extension": ".py",
   "mimetype": "text/x-python",
   "name": "python",
   "nbconvert_exporter": "python",
   "pygments_lexer": "ipython3",
   "version": "3.9.18"
  },
  "toc-showtags": false
 },
 "nbformat": 4,
 "nbformat_minor": 5
}
