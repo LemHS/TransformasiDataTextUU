{
 "cells": [
  {
   "cell_type": "code",
   "execution_count": 571,
   "id": "8a9bfb8e-ed4d-4ce7-89c5-6261db50d41f",
   "metadata": {},
   "outputs": [],
   "source": [
    "import regex as re\n",
    "import pandas as pd"
   ]
  },
  {
   "cell_type": "code",
   "execution_count": 572,
   "id": "9451c2c5-c5e8-4809-8c9e-3a1a848aa437",
   "metadata": {},
   "outputs": [],
   "source": [
    "try:\n",
    "    with open(\"uu6-1999.txt\", encoding=\"utf8\") as file:\n",
    "        file = file.read()\n",
    "except:\n",
    "    with open(\"uu6-1999.txt\") as file:\n",
    "        file = file.read()"
   ]
  },
  {
   "cell_type": "markdown",
   "id": "0748ee75-45e1-42bc-aee6-7c08b5b16944",
   "metadata": {},
   "source": [
    "## Remove Header"
   ]
  },
  {
   "cell_type": "code",
   "execution_count": 573,
   "id": "7a69c77f-857d-42c3-b0d5-85551f73a593",
   "metadata": {},
   "outputs": [],
   "source": [
    "file_no_header = re.sub(\"\\\\nPRESIDEN\\\\nREPUBLIK INDONESIA\\\\n- \\p{N}+ -\", \" \", file, flags=re.DOTALL)\n",
    "file_no_header = re.sub(\"(\\\\n[^\\\\n]*? \\…[^\\\\n]*)(?=\\\\n)\", \" \", file_no_header, flags=re.DOTALL)"
   ]
  },
  {
   "cell_type": "code",
   "execution_count": 574,
   "id": "42e4dda1",
   "metadata": {},
   "outputs": [
    {
     "data": {
      "text/plain": [
       "'PRESIDEN\\nREPUBLIK INDONESIA\\nUNDANG-UNDANG REPUBLIK INDONESIA\\nNOMOR 6 TAHUN 1999\\nTENTANG\\nPENCABUTAN UNDANG-UNDANG NOMOR 5 TAHUN 1985\\nTENTANG REFERENDUM\\nDENGAN RAHMAT TUHAN YANG MAHA ESA\\nPRESIDEN REPUBLIK INDONESIA,\\nMenimbang : a. bahwa Pasal 37 Undang-Undang Dasar 1945 telah menetapkan\\nprosedur perubahan Undang-Undang Dasar yakni perubahan dapat\\ndilakukan oleh Majelis Permusyawaratan Rakyat dengan syarat\\nsekurang-kurangnya 2/3 dari jumlah anggota Majelis harus hadir,\\ndan putusan diambil dengan persetujuan sekurang-kurangnya 2/3\\ndari jumlah yang hadir;\\nb. bahwa dalam Undang-Undang Dasar 1945 tidak terdapat ketentuan\\ntentang Referendum;\\nc. bahwa Ketetapan Majelis Permusyawaratan Rakyat Republik\\nIndonesia Nomor VIII/MPR/1998 telah mencabut dan menyatakan\\ntidak berlaku lagi Ketetapan Majelis Permusyawaratan Republik\\nIndonesia Nomor IV/MPR/1983 tentang Referendum, sehingga\\nUndang-undang Nomor 5 Tahun 1985 tentang Referendum perlu\\ndicabut;\\nd. bahwa berdasarkan pertimbangan sebagaimana dimaksud dalam\\nhuruf a, b, dan c, perlu membentuk Undang-undang yang mencabut\\nUndang-undang Nomor 5 Tahun 1985 tentang Referendum; \\nMengingat : 1. Pasal 5 ayat (1), Pasal 20 ayat (1), dan Pasal 37 Undang-Undang\\nDasar 1945;\\n2. Ketetapan Majelis Permusyawaratan Rakyat Republik Indonesia\\nNomor VIII/MPR/1998 tentang Pencabutan Ketetapan Majelis\\nPermusyawaratan Rakyat Republik Indonesia Nomor IV/MPR/1983\\ntentang Referendum.\\nDengan Persetujuan\\nDEWAN PERWAKILAN RAKYAT\\nREPUBLIK INDONESIA\\nMEMUTUSKAN:\\nMenetapkan : UNDANG-UNDANG TENTANG PENCABUTAN UNDANG-\\nUNDANG NOMOR 5 TAHUN 1985 TENTANG REFERENDUM.\\nPasal I\\nMencabut Undang-undang Nomor 5 Tahun 1985 tentang Referendum\\n(Lembaran Negara Tahun 1985 Nomor 29, Tambahan Lembaran\\nNegara Nomor 3288).\\nPasal II\\nUndang-undang ini mulai berlaku pada tanggal diundangkan. \\nAgar setiap orang mengetahuinya, memerintahkan pengundangan\\nUndang-undang ini dengan penempatannya dalam Lembaran Negara\\nRepublik Indonesia.\\nDisahkan di Jakarta\\npada tanggal 23 Maret 1999\\nPRESIDEN REPUBLIK INDONESIA,\\nttd.\\nBACHARUDDIN JUSUF HABIBIE\\nDiundangkan di Jakarta\\npada tanggal 23 Maret 1999\\nMENTERI NEGARA SEKRETARIS NEGARA\\nREPUBLIK INDONESIA,\\nttd.\\nAKBAR TANDJUNG\\nLEMBARAN NEGARA REPUBLIK INDONESIA TAHUN 1999 NOMOR 34\\nPRESIDEN\\nREPUBLIK INDONESIA\\nPENJELASAN\\nATAS\\nUNDANG-UNDANG REPUBLIK INDONESIA\\nNOMOR 6 TAHUN 1999\\nTENTANG\\nPENCABUTAN UNDANG-UNDANG NOMOR 5 TAHUN 1985\\nTENTANG REFERENDUM\\nI. UMUM\\nDalam Pasal 37 Undang-Undang Dasar 1945 telah ditentukan secara jelas prosedur untuk\\nmengubah Undang-Undang Dasar 1945, sedangkan dalam Undang-undang Nomor 5\\nTahun 1985 tentang Referendum, ketentuan mengenai perubahan Undang-Undang Dasar\\ntidak sesuai dengan jiwa dan semangat serta prinsip perwakilan sebagaimana\\ndiamanatkan Undang-Undang Dasar 1945. Selain itu hal yang sangat mendasar bahwa di\\ndalam Undang-Undang Dasar 1945 tidak terdapat ketentuan mengenai Referendum.\\nSelanjutnya, ketetapan Majelis Permusyawaratan Rakyat Republik Indonesia Nomor\\nVIII/MPR/1998 telah mencabut dan menyatakan tidak berlaku lagi Ketetapan Majelis\\nPermusyawaratan Rakyat Republik Indonesia Nomor IV/MPR/1983 tentang Referendum.\\nBerdasarkan berbagai pertimbangan tersebut, maka sebagai tindak lanjut yang konkret,\\nUndang-undang Nomor 5 Tahun 1985 tentang Referendum perlu dicabut.\\nII. PASAL DEMI PASAL\\nPasal I\\nCukup jelas\\nPasal II\\nCukup jelas\\nTAMBAHAN LEMBARAN NEGARA REPUBLIK INDONESIA NOMOR 3818'"
      ]
     },
     "execution_count": 574,
     "metadata": {},
     "output_type": "execute_result"
    }
   ],
   "source": [
    "file_no_header"
   ]
  },
  {
   "cell_type": "markdown",
   "id": "8834d421-15b1-4b96-95cd-06a32514f4f1",
   "metadata": {},
   "source": [
    "## Pisah Penjelasan"
   ]
  },
  {
   "cell_type": "code",
   "execution_count": 575,
   "id": "45ab6452-810b-4bab-bbc2-19f03ed5384e",
   "metadata": {},
   "outputs": [],
   "source": [
    "penjelasan = re.search(\"Agar setiap orang mengetahuinya.*\", file_no_header, re.DOTALL).group()\n",
    "badan = file_no_header.replace(penjelasan, \"\")"
   ]
  },
  {
   "cell_type": "code",
   "execution_count": 576,
   "id": "4c560c4b",
   "metadata": {},
   "outputs": [],
   "source": [
    "penjelasan = re.sub(\"TAMBAHAN LEMBARAN NEGARA.*\", \"\", penjelasan, flags=re.DOTALL)"
   ]
  },
  {
   "cell_type": "markdown",
   "id": "d1485299",
   "metadata": {},
   "source": [
    "# Badan"
   ]
  },
  {
   "cell_type": "markdown",
   "id": "f8275995-8cb0-493e-9c8b-c9e1a16f5fbf",
   "metadata": {},
   "source": [
    "## Ambil BAB"
   ]
  },
  {
   "cell_type": "code",
   "execution_count": 577,
   "id": "56de6ff4-efe1-48e3-95a0-93182f633a98",
   "metadata": {},
   "outputs": [],
   "source": [
    "def ambil_bab(text):\n",
    "    pattern = \"(?<=\\\\n)(BAB\\s*[IVXLCDM]+.*?)(?=\\\\nBAB|$)\"\n",
    "    bab = re.findall(pattern, text, re.DOTALL)\n",
    "    if bab:\n",
    "        ## ambil nomor dan nama bab\n",
    "        pattern_no = \"(?<=BAB)(?:\\s*)([IVXLCDM]+)\"\n",
    "        pattern_nama = \"(?<=BAB)(?:\\s*[IVXLCDM]+\\s*\\\\n)(.*?)(?=\\\\n\\p{Lu}\\p{Ll})\"\n",
    "        pattern_isi = \"(?<=BAB)(?:\\s*[IVXLCDM]+\\s*\\\\n.*?)(?:\\\\n)(\\p{Lu}\\p{Ll}.*)\"\n",
    "        no = [re.search(pattern_no, i, re.DOTALL).group(1) if re.search(pattern_no, i, re.DOTALL) else \"ERROR\" for i in bab]\n",
    "        nama = [re.search(pattern_nama, i, re.DOTALL).group(1) if re.search(pattern_nama, i, re.DOTALL) else \"ERROR\" for i in bab]\n",
    "        isi = [re.search(pattern_isi, i, re.DOTALL).group(1) if re.search(pattern_isi, i, re.DOTALL) else \"ERROR\" for i in bab]\n",
    "        return no, nama, isi\n",
    "    else:\n",
    "        no = [\"\"]\n",
    "        nama = [\"\"]\n",
    "        isi = [text]\n",
    "        return no, nama, isi"
   ]
  },
  {
   "cell_type": "markdown",
   "id": "7d94a400",
   "metadata": {},
   "source": [
    "Penjelasan\n",
    "1. (?<=\\\\n)(BAB [IVXLCDM]+.*?)(?=\\\\nBAB|$)<br>\n",
    "Digunakan untuk mengambil semua bab<br>\n",
    "Kondisi:<br>\n",
    "    a. Text dimulai dengan \\n tanpa mengambil \\n<br>\n",
    "    b. Setelah \\n dimulai dengan BAB(spasi)[Bilangan Romawi 1 digit dapat diulang beberapa kali] contoh (BAB IIV, BAB VVIX) akan diambil<br>\n",
    "       BILANGAN ROMAWI YANG TIDAK VALID DAPAT DIAMBIL<br>\n",
    "    c. Setelah kondisi diatas akan mengambil semua karakter<br>\n",
    "    d. pengambilan karakter akan berhenti ketika bertemu \\nBAB<br>\n",
    "\n",
    "2. (?<=BAB)(?:\\s*)([IVXLCDM]+)<br>\n",
    "Digunakan untuk mengambil no bab<br>\n",
    "Kondisi:<br>\n",
    "    a. Text dimulai dengan BAB(spasi dapat diulang beberapa kali) tanpa diambil<br>\n",
    "    b. Setelah kondisi diatas [Bilangan romawi 1 digit dapat diulang beberapa kali] akan diambil<br>\n",
    "       BILANGAN ROMAWI YANG TIDAK VALID DAPAT DIAMBIL<br>\n",
    "\n",
    "3. (?<=BAB)(?:\\s*[IVXLCDM]+\\s*\\\\n)([\\p{Lu}\\s\\\\n]*)(?=\\\\n)<br>\n",
    "Digunakan untuk mengambil nama bab<br>\n",
    "Kondisi:<br>\n",
    "    a. Text dimulai dengan BAB(spasi dapat diulang beberapa kali)[Bilangan Romawi 1 digit dapat diulang beberapa kali](spasi dapat diulang beberapa kali)\\n<br>\n",
    "    b. Mengambil semua karakter berupa huruf kapital atau spasi atau \\n<br>\n",
    "    c. Pengambilan karakter akan berhenti ketika bertemu \\n<br>\n",
    "\n",
    "4. (?<=BAB)(?:\\s*[IVXLCDM]+\\s*\\\\n[\\p{Lu}\\s\\\\n]*)(?:\\\\n)(.*)<br>\n",
    "Digunakan untuk mengambil isi bab<br>\n",
    "Kondisi:<br>\n",
    "    a. Text dimulai dengan BAB(spasi dapat diulang beberapa kali)[Bilangan Romawi 1 digit dapat diulang beberapa kali](spasi dapat diulang beberapa kali)\\n<br>\n",
    "    b. Setelah kondisi di atas teks dimulai dengan huruf kapital atau spasi atau \\n hingga berhenti pada \\n tanpa diambil (nama bab)<br>\n",
    "    c. Semua karakter sesudahnya diambil<br>"
   ]
  },
  {
   "cell_type": "code",
   "execution_count": 578,
   "id": "272dc028-7e1f-4f6c-9c7d-d7b853e7f037",
   "metadata": {},
   "outputs": [],
   "source": [
    "no_bab, nama_bab, isi_bab = ambil_bab(badan)\n",
    "df_bab = {\"no_bab\": no_bab, \"nama_bab\": nama_bab, \"isi_bab\": isi_bab}"
   ]
  },
  {
   "cell_type": "code",
   "execution_count": 579,
   "id": "c32fbf82",
   "metadata": {},
   "outputs": [
    {
     "data": {
      "text/plain": [
       "'PRESIDEN\\nREPUBLIK INDONESIA\\nUNDANG-UNDANG REPUBLIK INDONESIA\\nNOMOR 6 TAHUN 1999\\nTENTANG\\nPENCABUTAN UNDANG-UNDANG NOMOR 5 TAHUN 1985\\nTENTANG REFERENDUM\\nDENGAN RAHMAT TUHAN YANG MAHA ESA\\nPRESIDEN REPUBLIK INDONESIA,\\nMenimbang : a. bahwa Pasal 37 Undang-Undang Dasar 1945 telah menetapkan\\nprosedur perubahan Undang-Undang Dasar yakni perubahan dapat\\ndilakukan oleh Majelis Permusyawaratan Rakyat dengan syarat\\nsekurang-kurangnya 2/3 dari jumlah anggota Majelis harus hadir,\\ndan putusan diambil dengan persetujuan sekurang-kurangnya 2/3\\ndari jumlah yang hadir;\\nb. bahwa dalam Undang-Undang Dasar 1945 tidak terdapat ketentuan\\ntentang Referendum;\\nc. bahwa Ketetapan Majelis Permusyawaratan Rakyat Republik\\nIndonesia Nomor VIII/MPR/1998 telah mencabut dan menyatakan\\ntidak berlaku lagi Ketetapan Majelis Permusyawaratan Republik\\nIndonesia Nomor IV/MPR/1983 tentang Referendum, sehingga\\nUndang-undang Nomor 5 Tahun 1985 tentang Referendum perlu\\ndicabut;\\nd. bahwa berdasarkan pertimbangan sebagaimana dimaksud dalam\\nhuruf a, b, dan c, perlu membentuk Undang-undang yang mencabut\\nUndang-undang Nomor 5 Tahun 1985 tentang Referendum; \\nMengingat : 1. Pasal 5 ayat (1), Pasal 20 ayat (1), dan Pasal 37 Undang-Undang\\nDasar 1945;\\n2. Ketetapan Majelis Permusyawaratan Rakyat Republik Indonesia\\nNomor VIII/MPR/1998 tentang Pencabutan Ketetapan Majelis\\nPermusyawaratan Rakyat Republik Indonesia Nomor IV/MPR/1983\\ntentang Referendum.\\nDengan Persetujuan\\nDEWAN PERWAKILAN RAKYAT\\nREPUBLIK INDONESIA\\nMEMUTUSKAN:\\nMenetapkan : UNDANG-UNDANG TENTANG PENCABUTAN UNDANG-\\nUNDANG NOMOR 5 TAHUN 1985 TENTANG REFERENDUM.\\nPasal I\\nMencabut Undang-undang Nomor 5 Tahun 1985 tentang Referendum\\n(Lembaran Negara Tahun 1985 Nomor 29, Tambahan Lembaran\\nNegara Nomor 3288).\\nPasal II\\nUndang-undang ini mulai berlaku pada tanggal diundangkan. \\n'"
      ]
     },
     "execution_count": 579,
     "metadata": {},
     "output_type": "execute_result"
    }
   ],
   "source": [
    "badan"
   ]
  },
  {
   "cell_type": "code",
   "execution_count": 580,
   "id": "7976da0b-e2a3-410b-82ff-76971dadc50e",
   "metadata": {},
   "outputs": [
    {
     "data": {
      "text/html": [
       "<div>\n",
       "<style scoped>\n",
       "    .dataframe tbody tr th:only-of-type {\n",
       "        vertical-align: middle;\n",
       "    }\n",
       "\n",
       "    .dataframe tbody tr th {\n",
       "        vertical-align: top;\n",
       "    }\n",
       "\n",
       "    .dataframe thead th {\n",
       "        text-align: right;\n",
       "    }\n",
       "</style>\n",
       "<table border=\"1\" class=\"dataframe\">\n",
       "  <thead>\n",
       "    <tr style=\"text-align: right;\">\n",
       "      <th></th>\n",
       "      <th>no_bab</th>\n",
       "      <th>nama_bab</th>\n",
       "      <th>isi_bab</th>\n",
       "    </tr>\n",
       "  </thead>\n",
       "  <tbody>\n",
       "    <tr>\n",
       "      <th>0</th>\n",
       "      <td></td>\n",
       "      <td></td>\n",
       "      <td>PRESIDEN\\nREPUBLIK INDONESIA\\nUNDANG-UNDANG RE...</td>\n",
       "    </tr>\n",
       "  </tbody>\n",
       "</table>\n",
       "</div>"
      ],
      "text/plain": [
       "  no_bab nama_bab                                            isi_bab\n",
       "0                  PRESIDEN\\nREPUBLIK INDONESIA\\nUNDANG-UNDANG RE..."
      ]
     },
     "execution_count": 580,
     "metadata": {},
     "output_type": "execute_result"
    }
   ],
   "source": [
    "df_bab = pd.DataFrame(df_bab)\n",
    "df_bab"
   ]
  },
  {
   "cell_type": "markdown",
   "id": "7eb7c9f8-e6cc-4d9f-a2c4-de8915b67a5e",
   "metadata": {},
   "source": [
    "## Ambil Bagian"
   ]
  },
  {
   "cell_type": "code",
   "execution_count": 581,
   "id": "f3a7c7ee-d985-4897-baba-a6b4b5940716",
   "metadata": {},
   "outputs": [],
   "source": [
    "def ambil_bagian(text):\n",
    "    pattern = \"(?<=\\\\n|^)(Bagian\\s*\\p{Lu}.*?)(?=\\\\nBagian\\s*\\p{Lu}|$)\"\n",
    "    bagian = re.findall(pattern, text, re.DOTALL)\n",
    "    if bagian:\n",
    "        pattern_nama = \"(?<=Bagian)(?:\\s*\\p{Lu}\\p{L}*\\s*\\\\n)(.*?)(?=\\\\n(Pasal|Paragraf))\"\n",
    "        pattern_isi = \"Pasal.*\"\n",
    "        nama = [re.search(pattern_nama, i, re.DOTALL).group(1) if re.search(pattern_nama, i, re.DOTALL) else \"ERROR\" for i in bagian]\n",
    "        isi = [re.search(pattern_isi, i, re.DOTALL).group(0) if re.search(pattern_isi, i, re.DOTALL) else \"ERROR\" for i in bagian]\n",
    "        return nama, isi\n",
    "    else:\n",
    "        nama = [\"\"]\n",
    "        isi = [text]\n",
    "        return nama, isi"
   ]
  },
  {
   "cell_type": "markdown",
   "id": "6156232d",
   "metadata": {},
   "source": [
    "Penjelasan\n",
    "1. (?<=\\\\n|^)(Bagian \\p{Lu}.*?)(?=\\\\nBagian \\p{Lu}|$)<br>\n",
    "Digunakan untuk mengambil semua bagian<br>\n",
    "Kondisi:<br>\n",
    "    a. Text dimulai dengan \\n atau (start of string) tanpa diambil<br>\n",
    "    b. Setelah kondisi diatas dimulai dengan Bagian(spasi)[Huruf kapital] contoh (Bagian H, Bagian C, Bagian D) akan diambil<br>\n",
    "    c. Setelah kondisi diatas akan mengambil semua karakter<br>\n",
    "    d. pengambilan karakter akan berhenti ketika bertemu \\nBagian(spasi)[Huruf kapital]<br>\n",
    "\n",
    "2. (?<=Bagian \\p{Lu})(?:\\p{L}*\\s*\\\\n)(.*?)(?=\\\\nPasal)<br>\n",
    "Digunakan untuk mengambil nama bagian<br>\n",
    "Kondisi:<br>\n",
    "    a. Text dimulai dengan Bagian(spasi)[Huruf kapital][Huruf atau spasi dapat diulang beberapa kali]\\n tanpa diambil<br>\n",
    "    b. Semua karakter selanjutnya akan diambil<br>\n",
    "    c. Pengambilan karakter akan berhenti ketika bertemu \\nPasal<br>\n",
    "\n",
    "3. Pasal.*<br>\n",
    "Digunakan untuk mengambil isi bagian<br>\n",
    "Kondisi:<br>\n",
    "    a. Text dimulai dengan Pasal dengan diambil<br>\n",
    "    b. Semua karakter selanjutnya akan diambil<br>"
   ]
  },
  {
   "cell_type": "code",
   "execution_count": 582,
   "id": "9ae7dd2f-b931-4347-b7b7-d473a5170879",
   "metadata": {},
   "outputs": [
    {
     "data": {
      "text/html": [
       "<div>\n",
       "<style scoped>\n",
       "    .dataframe tbody tr th:only-of-type {\n",
       "        vertical-align: middle;\n",
       "    }\n",
       "\n",
       "    .dataframe tbody tr th {\n",
       "        vertical-align: top;\n",
       "    }\n",
       "\n",
       "    .dataframe thead th {\n",
       "        text-align: right;\n",
       "    }\n",
       "</style>\n",
       "<table border=\"1\" class=\"dataframe\">\n",
       "  <thead>\n",
       "    <tr style=\"text-align: right;\">\n",
       "      <th></th>\n",
       "      <th>nama_bagian</th>\n",
       "      <th>isi_bagian</th>\n",
       "    </tr>\n",
       "  </thead>\n",
       "  <tbody>\n",
       "    <tr>\n",
       "      <th>0</th>\n",
       "      <td></td>\n",
       "      <td>PRESIDEN\\nREPUBLIK INDONESIA\\nUNDANG-UNDANG RE...</td>\n",
       "    </tr>\n",
       "  </tbody>\n",
       "</table>\n",
       "</div>"
      ],
      "text/plain": [
       "  nama_bagian                                         isi_bagian\n",
       "0              PRESIDEN\\nREPUBLIK INDONESIA\\nUNDANG-UNDANG RE..."
      ]
     },
     "metadata": {},
     "output_type": "display_data"
    }
   ],
   "source": [
    "for i in range(len(df_bab)):\n",
    "    nama_bagian, isi_bagian = ambil_bagian(df_bab[\"isi_bab\"][i])\n",
    "    df_bagian = {\"nama_bagian\": nama_bagian, \"isi_bagian\": isi_bagian}\n",
    "    display(pd.DataFrame(df_bagian))"
   ]
  },
  {
   "cell_type": "code",
   "execution_count": 583,
   "id": "d7dd31c7-4872-44fa-b630-fcb2cbf95c3a",
   "metadata": {},
   "outputs": [],
   "source": [
    "# nama_bagian, isi_bagian = ambil_bagian(df_bab[\"isi_bab\"][7])\n",
    "# df_bagian = {\"nama_bagian\": nama_bagian, \"isi_bagian\": isi_bagian}\n",
    "# pd.DataFrame(df_bagian)"
   ]
  },
  {
   "cell_type": "markdown",
   "id": "babc6ef6-0d7a-45b7-afdd-04cfd6e4dae3",
   "metadata": {},
   "source": [
    "## Ambil Pasal"
   ]
  },
  {
   "cell_type": "code",
   "execution_count": 584,
   "id": "7bdb2ece-7f52-4f02-a5a2-0cbacad7dd70",
   "metadata": {},
   "outputs": [],
   "source": [
    "def ambil_pasal(text):\n",
    "    pattern = \"(?<=\\\\n|^)(Pasal\\s*\\p{N}+\\s*\\\\n.*?)(?=\\\\nPasal\\s*\\p{N}+\\s*\\\\n|$)\"\n",
    "    pasal = re.findall(pattern, text, re.DOTALL)\n",
    "    if pasal:\n",
    "        pattern_no = \"(?<=Pasal)(?:\\s*)(\\p{N}+)\"\n",
    "        pattern_isi = \"(?<=Pasal)(?:\\s*\\p{N}+\\s*\\\\n)(.*)\"\n",
    "        no = [re.search(pattern_no, i, re.DOTALL).group(1) if re.search(pattern_no, i, re.DOTALL) else \"ERROR\" for i in pasal]\n",
    "        isi = [re.search(pattern_isi, i, re.DOTALL).group(1) if re.search(pattern_isi, i, re.DOTALL) else \"ERROR\" for i in pasal]\n",
    "        return no, isi\n",
    "    else:\n",
    "        no = [\"\"]\n",
    "        isi = [text]\n",
    "        return no, isi"
   ]
  },
  {
   "cell_type": "markdown",
   "id": "a6c444c9",
   "metadata": {},
   "source": [
    "Penjelasan\n",
    "1. (?<=\\\\n|^)(Pasal \\p{N}+\\s*\\\\n.*?)(?=\\\\nPasal|$)<br>\n",
    "Digunakan untuk mengambil semua pasal<br>\n",
    "Kondisi:<br>\n",
    "    a. Text dimulai dengan \\n atau (start of string) tanpa diambil<br>\n",
    "    b. Setelah kondisi diatas dimulai dengan Pasal(spasi)[Nomor satu digit dapat diulang beberapa kali](spasi dapat diulang beberapa kali)\\n contoh (Pasal 1\\n, Pasal 23     \\n) akan diambil<br>\n",
    "    c. Setelah kondisi diatas akan mengambil semua karakter<br>\n",
    "    d. Pengambilan karakter akan berhenti ketika bertemu \\nPasal atau (end of string)<br>\n",
    "\n",
    "2. (?<=Pasal)(?:\\s*)(\\p{N}+)<br>\n",
    "Digunakan untuk mengambil no pasal<br>\n",
    "Kondisi:<br>\n",
    "    a. Text dimulai dengan Pasal(spasi dapat diulang beberapa kali) tanpa diambil<br>\n",
    "    b. Setelah kondisi diatas dimulai dengan [Nomor satu digit dapat diulang beberapa kali] akan diambil<br>\n",
    "\n",
    "3. (?<=Pasal)(?:\\s*\\p{N}+\\s*\\\\n)(.*)<br>\n",
    "Digunakan untuk mengambil isi pasal<br>\n",
    "Kondisi:<br>\n",
    "    a. Teks dimulai dengan Pasal(spasi dapat diulang beberapa kali) tanpa diambil<br>\n",
    "    b. Setelah kondisi diatas dimulai dengan [Nomor satu digit dapat diulang beberapa kali](spasi dapat diulang beberapa kali)\\n akan diambil (nomor pasal)<br>\n",
    "    c. Setelah kondisi diatas akan mengambil semua karakter<br>"
   ]
  },
  {
   "cell_type": "code",
   "execution_count": 585,
   "id": "db462319-30df-4841-926c-46f29a442426",
   "metadata": {},
   "outputs": [],
   "source": [
    "# for i in range(len(df_bagian)):\n",
    "#     no_pasal, isi_pasal = ambil_pasal(df_bagian[\"isi_bagian\"][i])\n",
    "#     df_pasal = {\"no_pasal\": no_pasal, \"isi_pasal\": isi_pasal}\n",
    "#     display(pd.DataFrame(df_pasal))"
   ]
  },
  {
   "cell_type": "code",
   "execution_count": 586,
   "id": "9f48cf3a-4f5b-4134-8a6c-d18ad9b276f5",
   "metadata": {},
   "outputs": [],
   "source": [
    "# no_pasal, isi_pasal = ambil_pasal(df_bagian[\"isi_bagian\"][0])\n",
    "# df_pasal = {\"no_pasal\": no_pasal, \"isi_pasal\": isi_pasal}"
   ]
  },
  {
   "cell_type": "code",
   "execution_count": 587,
   "id": "636fd2f9-cf15-4554-8ffb-5b14dcfa9c97",
   "metadata": {},
   "outputs": [],
   "source": [
    "# df_pasal = pd.DataFrame(df_pasal)\n",
    "# df_pasal"
   ]
  },
  {
   "cell_type": "markdown",
   "id": "ab291897-d81c-484f-95df-895451185837",
   "metadata": {},
   "source": [
    "## Ambil Ayat"
   ]
  },
  {
   "cell_type": "code",
   "execution_count": 588,
   "id": "361eb637-4e8e-4813-bccb-35c2c09a6fa6",
   "metadata": {},
   "outputs": [],
   "source": [
    "def ambil_ayat(text):\n",
    "    clean_text = re.sub('(?<=ayat)(\\\\n)(?=\\(\\p{N}\\))', \"\", text, flags=re.DOTALL)\n",
    "    ayat = re.findall('(?<=\\\\n|^)(\\(\\p{N}+\\).*?)(?=\\\\n\\(\\p{N}\\)|$)', clean_text, flags=re.DOTALL)\n",
    "    \n",
    "    if ayat:\n",
    "        pattern_no = \"(?<=\\\\n|^)(?:\\()(\\p{N}+)(?=\\))\"\n",
    "        pattern_isi = \"(?<=\\(\\p{N}+\\)\\s*)(.*)\"\n",
    "        no = [re.search(pattern_no, i, re.DOTALL).group(1) if re.search(pattern_no, i, re.DOTALL) else \"ERROR\" for i in ayat]\n",
    "        isi = [re.search(pattern_isi, i, re.DOTALL).group(0) if re.search(pattern_isi, i, re.DOTALL) else \"ERROR\" for i in ayat]\n",
    "        \n",
    "        return no, isi\n",
    "    else:\n",
    "        no = [\"\"]\n",
    "        isi = [text]\n",
    "        return no, isi"
   ]
  },
  {
   "cell_type": "markdown",
   "id": "31b114ec",
   "metadata": {},
   "source": [
    "Penjelasan\n",
    "1. (?<=\\\\n|^)(\\(\\p{N}+\\).*?)(?=\\\\n\\(\\p{N}\\)|$)<br>\n",
    "Digunakan untuk mengambil semua ayat<br>\n",
    "Kondisi:<br>\n",
    "    a. Text dimulai dengan \\n atau (start of string) tanpa diambil<br>\n",
    "    b. Setelah kondisi diatas dimulai oleh (buka kurung)[nomor dapat diulang beberapa kali](tutup kurung)<br>\n",
    "    c. Setelah kondisi diatas semua karakter diambil<br>\n",
    "    d. Pengambilan karakter diambil hingga bertemu \\n(buka kurung)[nomor dapat diulang beberapa kali](tutup kurung) atau (end of string)<br>\n",
    "\n",
    "2. (?<=\\\\n|^)(?:\\()(\\p{N}+)(?=\\))<br>\n",
    "Digunakan untuk mengambil no ayat<br>\n",
    "Kondisi:<br>\n",
    "    a. Text dimulai dengan \\n atau (start of string) tanpa diambil<br>\n",
    "    b. Setelah kondisi diatas dimulai oleh (buka kurung) tanpa diambil<br>\n",
    "    c. Setelah kondisi diatas dimulai oleh [nomor dapat diulang beberapa kali] diambil<br>\n",
    "    d. Pengambilan karakter diambil hingga bertemu (tutup kurung)<br>\n",
    "\n",
    "3. (?<=\\(\\p{N}+\\)\\s*)(.*)<br>\n",
    "Digunakan untuk mengambil isi ayat<br>\n",
    "Kondisi:<br>\n",
    "    a. Text dimulai dengan (buka kurung)[nomor dapat diulang beberapa kali](tutup kurung) tanpa diambil (no ayat)<br>\n",
    "    b. Setelah kondisi diatas semua karakter diambil<br>"
   ]
  },
  {
   "cell_type": "code",
   "execution_count": 589,
   "id": "2cf3d829-1d5c-430c-a75f-94b78fe6435d",
   "metadata": {},
   "outputs": [],
   "source": [
    "# for i in range(len(df_pasal)):\n",
    "#     no_ayat, isi_ayat = ambil_ayat(df_pasal[\"isi_pasal\"][i])\n",
    "#     df_ayat = {\"no_ayat\": no_ayat, \"isi_ayat\": isi_ayat}\n",
    "#     display(pd.DataFrame(df_ayat))"
   ]
  },
  {
   "cell_type": "code",
   "execution_count": 590,
   "id": "9caf3fad-aeef-4470-a280-3fdb463e07e8",
   "metadata": {},
   "outputs": [],
   "source": [
    "# no_ayat, isi_ayat = ambil_ayat(df_pasal[\"isi_pasal\"][3])\n",
    "# df_ayat = {\"no_ayat\": no_ayat, \"isi_ayat\": isi_ayat}"
   ]
  },
  {
   "cell_type": "code",
   "execution_count": 591,
   "id": "1bc627dc-bac7-4741-a86e-42d4bd3dd670",
   "metadata": {},
   "outputs": [],
   "source": [
    "# df_ayat = pd.DataFrame(df_ayat)"
   ]
  },
  {
   "cell_type": "markdown",
   "id": "4441b61a",
   "metadata": {},
   "source": [
    "# Penjelasan"
   ]
  },
  {
   "cell_type": "code",
   "execution_count": 592,
   "id": "f2de37c6",
   "metadata": {},
   "outputs": [
    {
     "data": {
      "text/plain": [
       "'Agar setiap orang mengetahuinya, memerintahkan pengundangan\\nUndang-undang ini dengan penempatannya dalam Lembaran Negara\\nRepublik Indonesia.\\nDisahkan di Jakarta\\npada tanggal 23 Maret 1999\\nPRESIDEN REPUBLIK INDONESIA,\\nttd.\\nBACHARUDDIN JUSUF HABIBIE\\nDiundangkan di Jakarta\\npada tanggal 23 Maret 1999\\nMENTERI NEGARA SEKRETARIS NEGARA\\nREPUBLIK INDONESIA,\\nttd.\\nAKBAR TANDJUNG\\nLEMBARAN NEGARA REPUBLIK INDONESIA TAHUN 1999 NOMOR 34\\nPRESIDEN\\nREPUBLIK INDONESIA\\nPENJELASAN\\nATAS\\nUNDANG-UNDANG REPUBLIK INDONESIA\\nNOMOR 6 TAHUN 1999\\nTENTANG\\nPENCABUTAN UNDANG-UNDANG NOMOR 5 TAHUN 1985\\nTENTANG REFERENDUM\\nI. UMUM\\nDalam Pasal 37 Undang-Undang Dasar 1945 telah ditentukan secara jelas prosedur untuk\\nmengubah Undang-Undang Dasar 1945, sedangkan dalam Undang-undang Nomor 5\\nTahun 1985 tentang Referendum, ketentuan mengenai perubahan Undang-Undang Dasar\\ntidak sesuai dengan jiwa dan semangat serta prinsip perwakilan sebagaimana\\ndiamanatkan Undang-Undang Dasar 1945. Selain itu hal yang sangat mendasar bahwa di\\ndalam Undang-Undang Dasar 1945 tidak terdapat ketentuan mengenai Referendum.\\nSelanjutnya, ketetapan Majelis Permusyawaratan Rakyat Republik Indonesia Nomor\\nVIII/MPR/1998 telah mencabut dan menyatakan tidak berlaku lagi Ketetapan Majelis\\nPermusyawaratan Rakyat Republik Indonesia Nomor IV/MPR/1983 tentang Referendum.\\nBerdasarkan berbagai pertimbangan tersebut, maka sebagai tindak lanjut yang konkret,\\nUndang-undang Nomor 5 Tahun 1985 tentang Referendum perlu dicabut.\\nII. PASAL DEMI PASAL\\nPasal I\\nCukup jelas\\nPasal II\\nCukup jelas\\n'"
      ]
     },
     "execution_count": 592,
     "metadata": {},
     "output_type": "execute_result"
    }
   ],
   "source": [
    "penjelasan"
   ]
  },
  {
   "cell_type": "markdown",
   "id": "ab570792",
   "metadata": {},
   "source": [
    "## Ambil Pasal"
   ]
  },
  {
   "cell_type": "code",
   "execution_count": 593,
   "id": "7cc58ccd",
   "metadata": {},
   "outputs": [],
   "source": [
    "def ambil_penjelasan_pasal(text):\n",
    "    pattern = \"(?<=\\\\n|^|\\s)(Pasal\\s*\\p{N}+.*?)(?=\\\\nPasal \\p{N}+\\s*\\\\n|\\sPasal \\p{N}+\\s*\\\\n|$)\"\n",
    "    pasal = re.findall(pattern, text, re.DOTALL)\n",
    "    if pasal:\n",
    "        pattern_no = \"(?<=Pasal)(?:\\s*)(\\p{N}+)\"\n",
    "        pattern_isi = \"(?<=Pasal)(?:\\s*\\p{N}+\\s*\\\\n)(.*)\"\n",
    "        no = [re.search(pattern_no, i, re.DOTALL).group(1) if re.search(pattern_no, i, re.DOTALL) else \"ERROR\" for i in pasal]\n",
    "        isi = [re.search(pattern_isi, i, re.DOTALL).group(1) if re.search(pattern_isi, i, re.DOTALL) else \"ERROR\" for i in pasal]\n",
    "        return no, isi\n",
    "    else:\n",
    "        no = [\"\"]\n",
    "        isi = [text]\n",
    "        return no, isi"
   ]
  },
  {
   "cell_type": "code",
   "execution_count": 594,
   "id": "14d33019",
   "metadata": {},
   "outputs": [],
   "source": [
    "# no_penjelasan_pasal, isi_penjelasan_pasal = ambil_penjelasan_pasal(penjelasan)\n",
    "# df_penjelasan_pasal = {'no_penjelasan_pasal': no_penjelasan_pasal, 'isi_penjelasan_pasal': isi_penjelasan_pasal}"
   ]
  },
  {
   "cell_type": "markdown",
   "id": "e8dc13e5",
   "metadata": {},
   "source": [
    "## Ambil Ayat"
   ]
  },
  {
   "cell_type": "code",
   "execution_count": 595,
   "id": "9eeb62c9",
   "metadata": {},
   "outputs": [],
   "source": [
    "def ambil_penjelasan_ayat(text):\n",
    "    pattern = \"(?<=\\\\n|^|\\s)(Ayat\\s*\\(\\p{N}+\\).*?)(?=\\\\nAyat\\s*\\(\\p{N}+\\)|\\sAyat\\s*\\(\\p{N}+\\)|$)\"\n",
    "    ayat = re.findall(pattern, text, re.DOTALL)\n",
    "    if ayat:\n",
    "        pattern_no = \"(?<=Ayat)(?:\\s*\\()(\\p{N}+)\"\n",
    "        pattern_isi = \"(?<=Ayat)(?:\\s*\\(\\p{N}+\\)\\s*\\\\n)(.*)\"\n",
    "        no = [re.search(pattern_no, i, re.DOTALL).group(1) if re.search(pattern_no, i, re.DOTALL) else \"ERROR\" for i in ayat]\n",
    "        isi = [re.search(pattern_isi, i, re.DOTALL).group(1) if re.search(pattern_isi, i, re.DOTALL) else \"ERROR\" for i in ayat]\n",
    "        return no, isi\n",
    "    else:\n",
    "        no = [\"\"]\n",
    "        isi = [text]\n",
    "        return no, isi"
   ]
  },
  {
   "cell_type": "code",
   "execution_count": 596,
   "id": "888620b6",
   "metadata": {},
   "outputs": [],
   "source": [
    "# for i in range(len(df_penjelasan_pasal)):\n",
    "#     no_penjelasan_ayat, isi_penjelasan_ayat = ambil_penjelasan_ayat(df_penjelasan_pasal['isi_penjelasan_pasal'][i])\n",
    "#     df_penjelasan_ayat = {'no_penjelasan_ayat': no_penjelasan_ayat, 'isi_penjelasan_ayat': isi_penjelasan_ayat}\n",
    "#     display(pd.DataFrame(df_penjelasan_ayat))"
   ]
  },
  {
   "cell_type": "code",
   "execution_count": 597,
   "id": "c18ff0f2",
   "metadata": {},
   "outputs": [],
   "source": [
    "# no_penjelasan_ayat, isi_penjelasan_ayat = ambil_penjelasan_ayat(df_penjelasan_pasal['isi_penjelasan_pasal'][61])\n",
    "# df_penjelasan_ayat = {'no_penjelasan_ayat': no_penjelasan_ayat, 'isi_penjelasan_ayat': isi_penjelasan_ayat}"
   ]
  },
  {
   "cell_type": "code",
   "execution_count": 598,
   "id": "c173c77f",
   "metadata": {},
   "outputs": [],
   "source": [
    "# df_penjelasan_ayat = pd.DataFrame(df_penjelasan_ayat)"
   ]
  },
  {
   "cell_type": "code",
   "execution_count": 599,
   "id": "41be0884",
   "metadata": {},
   "outputs": [],
   "source": [
    "df_badan_lst = []\n",
    "lst_no_bab, lst_nama_bab, lst_isi_bab = ambil_bab(badan)\n",
    "\n",
    "for i_bab, no_bab in enumerate(lst_no_bab):\n",
    "    nama_bab = lst_nama_bab[i_bab]\n",
    "    lst_nama_bagian, lst_isi_bagian = ambil_bagian(lst_isi_bab[i_bab])\n",
    "\n",
    "    for i_bagian, nama_bagian in enumerate(lst_nama_bagian):\n",
    "        lst_no_pasal, lst_isi_pasal = ambil_pasal(lst_isi_bagian[i_bagian])\n",
    "\n",
    "        for i_pasal, no_pasal in enumerate(lst_no_pasal):\n",
    "            lst_no_ayat, lst_isi_ayat = ambil_ayat(lst_isi_pasal[i_pasal])\n",
    "            df_ayat = pd.DataFrame()\n",
    "            df_ayat[\"no_ayat\"] = lst_no_ayat\n",
    "            df_ayat[\"isi_ayat\"] = lst_isi_ayat\n",
    "            df_ayat[\"no_bab\"] = no_bab\n",
    "            df_ayat[\"nama_bab\"] = nama_bab\n",
    "            df_ayat[\"nama_bagian\"] = nama_bagian\n",
    "            df_ayat[\"no_pasal\"] = no_pasal\n",
    "            df_badan_lst.append(df_ayat)\n",
    "\n",
    "df_badan = pd.concat(df_badan_lst)\n",
    "df_badan = df_badan[[\"no_bab\", \"nama_bab\", \"nama_bagian\", \"no_pasal\", \"no_ayat\", \"isi_ayat\"]]"
   ]
  },
  {
   "cell_type": "code",
   "execution_count": 600,
   "id": "0823c680",
   "metadata": {},
   "outputs": [
    {
     "data": {
      "text/html": [
       "<div>\n",
       "<style scoped>\n",
       "    .dataframe tbody tr th:only-of-type {\n",
       "        vertical-align: middle;\n",
       "    }\n",
       "\n",
       "    .dataframe tbody tr th {\n",
       "        vertical-align: top;\n",
       "    }\n",
       "\n",
       "    .dataframe thead th {\n",
       "        text-align: right;\n",
       "    }\n",
       "</style>\n",
       "<table border=\"1\" class=\"dataframe\">\n",
       "  <thead>\n",
       "    <tr style=\"text-align: right;\">\n",
       "      <th></th>\n",
       "      <th>no_bab</th>\n",
       "      <th>nama_bab</th>\n",
       "      <th>nama_bagian</th>\n",
       "      <th>no_pasal</th>\n",
       "      <th>no_ayat</th>\n",
       "      <th>isi_ayat</th>\n",
       "    </tr>\n",
       "  </thead>\n",
       "  <tbody>\n",
       "    <tr>\n",
       "      <th>0</th>\n",
       "      <td></td>\n",
       "      <td></td>\n",
       "      <td></td>\n",
       "      <td></td>\n",
       "      <td></td>\n",
       "      <td>PRESIDEN\\nREPUBLIK INDONESIA\\nUNDANG-UNDANG RE...</td>\n",
       "    </tr>\n",
       "  </tbody>\n",
       "</table>\n",
       "</div>"
      ],
      "text/plain": [
       "  no_bab nama_bab nama_bagian no_pasal no_ayat  \\\n",
       "0                                                \n",
       "\n",
       "                                            isi_ayat  \n",
       "0  PRESIDEN\\nREPUBLIK INDONESIA\\nUNDANG-UNDANG RE...  "
      ]
     },
     "execution_count": 600,
     "metadata": {},
     "output_type": "execute_result"
    }
   ],
   "source": [
    "df_badan"
   ]
  },
  {
   "cell_type": "code",
   "execution_count": 601,
   "id": "9caa8daa",
   "metadata": {},
   "outputs": [],
   "source": [
    "df_penjelasan_lst = []\n",
    "\n",
    "lst_no_penjelasan_pasal, lst_isi_penjelasan_pasal = ambil_penjelasan_pasal(penjelasan)\n",
    "\n",
    "for i_penjelasan_pasal, no_penjelasan_pasal in enumerate(lst_no_penjelasan_pasal):\n",
    "    lst_no_penjelasan_ayat, lst_isi_penjelasan_ayat = ambil_penjelasan_ayat(lst_isi_penjelasan_pasal[i_penjelasan_pasal])\n",
    "    df_penjelasan_ayat = pd.DataFrame()\n",
    "    df_penjelasan_ayat['penjelasan'] = lst_isi_penjelasan_ayat\n",
    "    df_penjelasan_ayat['no_ayat'] = lst_no_penjelasan_ayat\n",
    "    df_penjelasan_ayat['no_pasal'] = no_penjelasan_pasal\n",
    "    df_penjelasan_lst.append(df_penjelasan_ayat)\n",
    "\n",
    "df_penjelasan = pd.concat(df_penjelasan_lst)\n",
    "df_penjelasan = df_penjelasan[['no_pasal', 'no_ayat', 'penjelasan']]"
   ]
  },
  {
   "cell_type": "code",
   "execution_count": 602,
   "id": "91145c0b",
   "metadata": {},
   "outputs": [
    {
     "data": {
      "text/html": [
       "<div>\n",
       "<style scoped>\n",
       "    .dataframe tbody tr th:only-of-type {\n",
       "        vertical-align: middle;\n",
       "    }\n",
       "\n",
       "    .dataframe tbody tr th {\n",
       "        vertical-align: top;\n",
       "    }\n",
       "\n",
       "    .dataframe thead th {\n",
       "        text-align: right;\n",
       "    }\n",
       "</style>\n",
       "<table border=\"1\" class=\"dataframe\">\n",
       "  <thead>\n",
       "    <tr style=\"text-align: right;\">\n",
       "      <th></th>\n",
       "      <th>no_pasal</th>\n",
       "      <th>no_ayat</th>\n",
       "      <th>penjelasan</th>\n",
       "    </tr>\n",
       "  </thead>\n",
       "  <tbody>\n",
       "    <tr>\n",
       "      <th>0</th>\n",
       "      <td>37</td>\n",
       "      <td></td>\n",
       "      <td>ERROR</td>\n",
       "    </tr>\n",
       "  </tbody>\n",
       "</table>\n",
       "</div>"
      ],
      "text/plain": [
       "  no_pasal no_ayat penjelasan\n",
       "0       37              ERROR"
      ]
     },
     "execution_count": 602,
     "metadata": {},
     "output_type": "execute_result"
    }
   ],
   "source": [
    "df_penjelasan"
   ]
  },
  {
   "cell_type": "code",
   "execution_count": 603,
   "id": "6f0a00d1",
   "metadata": {},
   "outputs": [
    {
     "data": {
      "text/plain": [
       "'Agar setiap orang mengetahuinya, memerintahkan pengundangan\\nUndang-undang ini dengan penempatannya dalam Lembaran Negara\\nRepublik Indonesia.\\nDisahkan di Jakarta\\npada tanggal 23 Maret 1999\\nPRESIDEN REPUBLIK INDONESIA,\\nttd.\\nBACHARUDDIN JUSUF HABIBIE\\nDiundangkan di Jakarta\\npada tanggal 23 Maret 1999\\nMENTERI NEGARA SEKRETARIS NEGARA\\nREPUBLIK INDONESIA,\\nttd.\\nAKBAR TANDJUNG\\nLEMBARAN NEGARA REPUBLIK INDONESIA TAHUN 1999 NOMOR 34\\nPRESIDEN\\nREPUBLIK INDONESIA\\nPENJELASAN\\nATAS\\nUNDANG-UNDANG REPUBLIK INDONESIA\\nNOMOR 6 TAHUN 1999\\nTENTANG\\nPENCABUTAN UNDANG-UNDANG NOMOR 5 TAHUN 1985\\nTENTANG REFERENDUM\\nI. UMUM\\nDalam Pasal 37 Undang-Undang Dasar 1945 telah ditentukan secara jelas prosedur untuk\\nmengubah Undang-Undang Dasar 1945, sedangkan dalam Undang-undang Nomor 5\\nTahun 1985 tentang Referendum, ketentuan mengenai perubahan Undang-Undang Dasar\\ntidak sesuai dengan jiwa dan semangat serta prinsip perwakilan sebagaimana\\ndiamanatkan Undang-Undang Dasar 1945. Selain itu hal yang sangat mendasar bahwa di\\ndalam Undang-Undang Dasar 1945 tidak terdapat ketentuan mengenai Referendum.\\nSelanjutnya, ketetapan Majelis Permusyawaratan Rakyat Republik Indonesia Nomor\\nVIII/MPR/1998 telah mencabut dan menyatakan tidak berlaku lagi Ketetapan Majelis\\nPermusyawaratan Rakyat Republik Indonesia Nomor IV/MPR/1983 tentang Referendum.\\nBerdasarkan berbagai pertimbangan tersebut, maka sebagai tindak lanjut yang konkret,\\nUndang-undang Nomor 5 Tahun 1985 tentang Referendum perlu dicabut.\\nII. PASAL DEMI PASAL\\nPasal I\\nCukup jelas\\nPasal II\\nCukup jelas\\n'"
      ]
     },
     "execution_count": 603,
     "metadata": {},
     "output_type": "execute_result"
    }
   ],
   "source": [
    "penjelasan"
   ]
  },
  {
   "cell_type": "code",
   "execution_count": 604,
   "id": "049cf9bc",
   "metadata": {},
   "outputs": [],
   "source": [
    "df_penjelasan['pasal_ayat'] = df_penjelasan['no_pasal'] + \"-\" + df_penjelasan['no_ayat']\n",
    "df_badan['pasal_ayat'] = df_badan['no_pasal'] + \"-\" + df_badan['no_ayat']"
   ]
  },
  {
   "cell_type": "code",
   "execution_count": 605,
   "id": "ba251a05",
   "metadata": {},
   "outputs": [],
   "source": [
    "df_left = df_badan.merge(df_penjelasan, how=\"left\", on=\"pasal_ayat\", suffixes=('', '_y'))\n",
    "df_left = df_left.drop(['pasal_ayat', 'no_pasal_y', 'no_ayat_y'], axis=1)"
   ]
  },
  {
   "cell_type": "code",
   "execution_count": 606,
   "id": "999d2e6c",
   "metadata": {},
   "outputs": [
    {
     "data": {
      "text/html": [
       "<div>\n",
       "<style scoped>\n",
       "    .dataframe tbody tr th:only-of-type {\n",
       "        vertical-align: middle;\n",
       "    }\n",
       "\n",
       "    .dataframe tbody tr th {\n",
       "        vertical-align: top;\n",
       "    }\n",
       "\n",
       "    .dataframe thead th {\n",
       "        text-align: right;\n",
       "    }\n",
       "</style>\n",
       "<table border=\"1\" class=\"dataframe\">\n",
       "  <thead>\n",
       "    <tr style=\"text-align: right;\">\n",
       "      <th></th>\n",
       "      <th>no_bab</th>\n",
       "      <th>nama_bab</th>\n",
       "      <th>nama_bagian</th>\n",
       "      <th>no_pasal</th>\n",
       "      <th>no_ayat</th>\n",
       "      <th>isi_ayat</th>\n",
       "      <th>penjelasan</th>\n",
       "    </tr>\n",
       "  </thead>\n",
       "  <tbody>\n",
       "    <tr>\n",
       "      <th>0</th>\n",
       "      <td></td>\n",
       "      <td></td>\n",
       "      <td></td>\n",
       "      <td></td>\n",
       "      <td></td>\n",
       "      <td>PRESIDEN\\nREPUBLIK INDONESIA\\nUNDANG-UNDANG RE...</td>\n",
       "      <td>NaN</td>\n",
       "    </tr>\n",
       "  </tbody>\n",
       "</table>\n",
       "</div>"
      ],
      "text/plain": [
       "  no_bab nama_bab nama_bagian no_pasal no_ayat  \\\n",
       "0                                                \n",
       "\n",
       "                                            isi_ayat penjelasan  \n",
       "0  PRESIDEN\\nREPUBLIK INDONESIA\\nUNDANG-UNDANG RE...        NaN  "
      ]
     },
     "execution_count": 606,
     "metadata": {},
     "output_type": "execute_result"
    }
   ],
   "source": [
    "df_left"
   ]
  },
  {
   "cell_type": "code",
   "execution_count": 607,
   "id": "b5ba8da1",
   "metadata": {},
   "outputs": [],
   "source": [
    "df_right = df_badan.merge(df_penjelasan, how=\"right\", on=\"pasal_ayat\", suffixes=('', '_y'))\n",
    "df_right = df_right.drop(['pasal_ayat', 'no_pasal_y', 'no_ayat_y'], axis=1)"
   ]
  },
  {
   "cell_type": "code",
   "execution_count": 608,
   "id": "b0b9b97f",
   "metadata": {},
   "outputs": [],
   "source": [
    "df = df_badan.merge(df_penjelasan, how=\"inner\", on=\"pasal_ayat\", suffixes=('', '_y'))\n",
    "df = df.drop(['pasal_ayat', 'no_pasal_y', 'no_ayat_y'], axis=1)"
   ]
  },
  {
   "cell_type": "code",
   "execution_count": 609,
   "id": "e9e6174e",
   "metadata": {},
   "outputs": [
    {
     "data": {
      "text/html": [
       "<div>\n",
       "<style scoped>\n",
       "    .dataframe tbody tr th:only-of-type {\n",
       "        vertical-align: middle;\n",
       "    }\n",
       "\n",
       "    .dataframe tbody tr th {\n",
       "        vertical-align: top;\n",
       "    }\n",
       "\n",
       "    .dataframe thead th {\n",
       "        text-align: right;\n",
       "    }\n",
       "</style>\n",
       "<table border=\"1\" class=\"dataframe\">\n",
       "  <thead>\n",
       "    <tr style=\"text-align: right;\">\n",
       "      <th></th>\n",
       "      <th>no_bab</th>\n",
       "      <th>nama_bab</th>\n",
       "      <th>nama_bagian</th>\n",
       "      <th>no_pasal</th>\n",
       "      <th>no_ayat</th>\n",
       "      <th>isi_ayat</th>\n",
       "      <th>penjelasan</th>\n",
       "    </tr>\n",
       "  </thead>\n",
       "  <tbody>\n",
       "  </tbody>\n",
       "</table>\n",
       "</div>"
      ],
      "text/plain": [
       "Empty DataFrame\n",
       "Columns: [no_bab, nama_bab, nama_bagian, no_pasal, no_ayat, isi_ayat, penjelasan]\n",
       "Index: []"
      ]
     },
     "execution_count": 609,
     "metadata": {},
     "output_type": "execute_result"
    }
   ],
   "source": [
    "df"
   ]
  }
 ],
 "metadata": {
  "kernelspec": {
   "display_name": "Python 3 (ipykernel)",
   "language": "python",
   "name": "python3"
  },
  "language_info": {
   "codemirror_mode": {
    "name": "ipython",
    "version": 3
   },
   "file_extension": ".py",
   "mimetype": "text/x-python",
   "name": "python",
   "nbconvert_exporter": "python",
   "pygments_lexer": "ipython3",
   "version": "3.11.0"
  }
 },
 "nbformat": 4,
 "nbformat_minor": 5
}
