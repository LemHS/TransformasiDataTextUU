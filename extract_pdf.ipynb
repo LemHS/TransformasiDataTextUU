{
 "cells": [
  {
   "cell_type": "code",
   "execution_count": 23,
   "id": "d32cfac7-b1e1-4b3d-a303-f0e760be28a5",
   "metadata": {},
   "outputs": [],
   "source": [
    "import pdfplumber"
   ]
  },
  {
   "cell_type": "code",
   "execution_count": 24,
   "id": "ae2ab4e8-1426-4f6e-82d0-0a8db804001a",
   "metadata": {},
   "outputs": [],
   "source": [
    "# pdf = pdfplumber.open('DataUUHabibie/uu1-1999.pdf')\n",
    "pdf = pdfplumber.open('DataUUHabibie/uu13-1999.pdf')"
   ]
  },
  {
   "cell_type": "code",
   "execution_count": 25,
   "id": "94745330-4937-4260-8ba3-0ed6181acb60",
   "metadata": {},
   "outputs": [],
   "source": [
    "page = pdf.pages[:]"
   ]
  },
  {
   "cell_type": "code",
   "execution_count": 26,
   "id": "d78a88cc-1eec-44d2-bc5c-e18d1fa5ff11",
   "metadata": {},
   "outputs": [],
   "source": [
    "text = ''\n",
    "\n",
    "text += page[0].extract_text()\n",
    "\n",
    "for i in page[1:]:\n",
    "    text += \"\\n\" + i.extract_text()"
   ]
  },
  {
   "cell_type": "code",
   "execution_count": 27,
   "id": "03cf090b-1402-478d-9f40-373f7a3b86ca",
   "metadata": {},
   "outputs": [],
   "source": [
    "with open(\"uu13-1999.txt\", \"w\") as file:\n",
    "    file.write(text)\n",
    "    file.close()"
   ]
  },
  {
   "cell_type": "code",
   "execution_count": null,
   "id": "49428b65-ad3c-4e67-9eb9-c43f9208a42f",
   "metadata": {},
   "outputs": [],
   "source": []
  }
 ],
 "metadata": {
  "kernelspec": {
   "display_name": "Python 3 (ipykernel)",
   "language": "python",
   "name": "python3"
  },
  "language_info": {
   "codemirror_mode": {
    "name": "ipython",
    "version": 3
   },
   "file_extension": ".py",
   "mimetype": "text/x-python",
   "name": "python",
   "nbconvert_exporter": "python",
   "pygments_lexer": "ipython3",
   "version": "3.11.0"
  }
 },
 "nbformat": 4,
 "nbformat_minor": 5
}
